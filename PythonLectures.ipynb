{
 "cells": [
  {
   "attachments": {},
   "cell_type": "markdown",
   "metadata": {},
   "source": [
    "<span style=\"font-size: 50px;\">Python Lectures</span>\n",
    "\n",
    "<br><span style=\"font-size: 30px;\">Authored By <b>Shadmehr Salehi</b></span>\n",
    "<br><span style=\"font-size: 22px; margin-left : 10px;\">For Advanced Programming Course</span>\n",
    "<br><span style=\"font-size: 22px; margin-left : 10px;\">May Be Used Under `CC-BY-SA` License</span>\n",
    "\n",
    "<span style=\"font-size: 25px;\">It Almost Contains All Subjects That A CS Student Should Know About Python. <br> If You Noticed An Unmentioned Important Subject, Please Open An Issue On Github. <br> Also If You Found A Problem Also Open An Issue On Github =)</span>\n",
    "\n",
    "- <span style=\"font-size: 25px;\"> If You Found This Lecture Helpful, Please Star This Repo, It Would Be Appreciated ^_^</span><br>\n",
    " \n",
    "\n",
    "<span style=\"font-size: 22px;\"><b>Some Useful Links:</b> </span> <br>\n",
    "- [GitHub](https://github.com/shadmehr-salehi) <br>\n",
    "- [Lecture on GitHub](https://github.com/shadmehr-salehi/Python-Lectures) <br>\n",
    "- [LinkedIn](https://www.linkedin.com/in/shadmehr-salehi)"
   ]
  },
  {
   "attachments": {},
   "cell_type": "markdown",
   "metadata": {},
   "source": [
    "---"
   ]
  },
  {
   "attachments": {},
   "cell_type": "markdown",
   "metadata": {},
   "source": [
    "# Chapter 1: Python Begins"
   ]
  },
  {
   "attachments": {},
   "cell_type": "markdown",
   "metadata": {},
   "source": [
    "## Data Types"
   ]
  },
  {
   "attachments": {},
   "cell_type": "markdown",
   "metadata": {},
   "source": [
    "### Numeric Types"
   ]
  },
  {
   "attachments": {},
   "cell_type": "markdown",
   "metadata": {},
   "source": [
    "Numeric types include integers, floats, and complex numbers.\n",
    "<br>\n",
    "Integers represent whole numbers, floats represent decimal numbers, and complex numbers are expressed in the form $a + bj$, where $a$ and $b$ are real numbers and $j$ is the imaginary unit.\n",
    "<br>\n",
    "Note that `bool` is a subclass of `int` and all booleans are considered as subtypes of integers."
   ]
  },
  {
   "cell_type": "code",
   "execution_count": 80,
   "metadata": {},
   "outputs": [
    {
     "name": "stdout",
     "output_type": "stream",
     "text": [
      "1\n",
      "1.9\n",
      "(2+3j)\n",
      "True\n",
      "2\n"
     ]
    }
   ],
   "source": [
    "# includes int, float, complex, bool\n",
    "\n",
    "# Examples\n",
    "a = 1 \n",
    "b = 1.9\n",
    "c = 2+3j\n",
    "d = True # or 1\n",
    "\n",
    "# The code below is correct!\n",
    "e = True + True + False\n",
    "\n",
    "print(a, b, c, d, e , sep = \"\\n\")"
   ]
  },
  {
   "attachments": {},
   "cell_type": "markdown",
   "metadata": {},
   "source": [
    "### Constants"
   ]
  },
  {
   "attachments": {},
   "cell_type": "markdown",
   "metadata": {},
   "source": [
    "Note that there is no strict way to define constants in Python, however you can use UPPERCASE variable names to alert developers."
   ]
  },
  {
   "cell_type": "code",
   "execution_count": 81,
   "metadata": {},
   "outputs": [
    {
     "name": "stdout",
     "output_type": "stream",
     "text": [
      "2\n"
     ]
    }
   ],
   "source": [
    "CONST_EG = 1\n",
    "CONST_EG = 2\n",
    "\n",
    "print(CONST_EG)"
   ]
  },
  {
   "attachments": {},
   "cell_type": "markdown",
   "metadata": {},
   "source": [
    "### Sequence Types"
   ]
  },
  {
   "attachments": {},
   "cell_type": "markdown",
   "metadata": {},
   "source": [
    "Sequence types include lists, tuples, and range objects.\n",
    "<br>\n",
    "Lists are *mutable* sequences of elements, tuples are *immutable* sequences of elements, and range objects represent an *immutable* sequence of numbers."
   ]
  },
  {
   "cell_type": "code",
   "execution_count": 82,
   "metadata": {},
   "outputs": [
    {
     "name": "stdout",
     "output_type": "stream",
     "text": [
      "[1, 3, 5, 7, 9]\n"
     ]
    }
   ],
   "source": [
    "list, tuple, range \n",
    "\n",
    "lst = [1, 2, \"hello\", 1+2j, True]\n",
    "tpl = (1, 2, 3, 3, 3, \"hello\")\n",
    "tpl = 1, 2, 3, 3, 3, \"hello\" # the same tuple\n",
    "tpl = 1, # a single-element tuple\n",
    "\n",
    "# Since tuples are immutable, the line below will raise an error.\n",
    "# tpl[1] = 10\n",
    "\n",
    "print(list(range(1, 10, 2)))"
   ]
  },
  {
   "attachments": {},
   "cell_type": "markdown",
   "metadata": {},
   "source": [
    "### Set Types"
   ]
  },
  {
   "attachments": {},
   "cell_type": "markdown",
   "metadata": {},
   "source": [
    "Set types include sets and frozensets.\n",
    "<br>\n",
    "Sets represent *unordered* collections that are *mutable* and you can add, remove, or modify elements after they are created.\n",
    "<br>\n",
    "Frozensets are *immutable* and you cannot modify them after creation."
   ]
  },
  {
   "cell_type": "code",
   "execution_count": 83,
   "metadata": {},
   "outputs": [
    {
     "name": "stdout",
     "output_type": "stream",
     "text": [
      "{0, 1, 3, 100, 4, 5, 200, 'hello', 3450}\n",
      "[1, 2, 3, 'hello']\n"
     ]
    }
   ],
   "source": [
    "set, frozenset\n",
    "\n",
    "s = {0, 1, 100, 200, 3, 4, 5, 5, \"hello\", \"hello\"}\n",
    "s.add(3450)\n",
    "print(s)\n",
    "\n",
    "fs = frozenset([1, 2, 3, 3, 3, \"hello\", \"hello\"])\n",
    "# fs.add() <- Raises Error\n",
    "new_list = list(fs)\n",
    "print(new_list)"
   ]
  },
  {
   "attachments": {},
   "cell_type": "markdown",
   "metadata": {},
   "source": [
    "### Mapping Type"
   ]
  },
  {
   "attachments": {},
   "cell_type": "markdown",
   "metadata": {},
   "source": [
    "Mapping type includes dictionaries.\n",
    "<br>\n",
    "Dictionaries are collections of key-value pairs, where each key is *unique*."
   ]
  },
  {
   "cell_type": "code",
   "execution_count": 84,
   "metadata": {},
   "outputs": [
    {
     "name": "stdout",
     "output_type": "stream",
     "text": [
      "Shadmehr\n",
      "20\n",
      "Computer Science\n",
      "{'name': 'Shadmehr', 'age': 26, 'major': 'Computer Science', 'year': 2}\n"
     ]
    }
   ],
   "source": [
    "student = {\"name\": \"Shadmehr\", \"age\": 20, \"major\": \"Computer Science\"}\n",
    "print(student[\"name\"])\n",
    "print(student[\"age\"])\n",
    "print(student[\"major\"])\n",
    "student[\"age\"] = 26\n",
    "student[\"year\"] = 2\n",
    "print(student)"
   ]
  },
  {
   "attachments": {},
   "cell_type": "markdown",
   "metadata": {},
   "source": [
    "### Text Type"
   ]
  },
  {
   "attachments": {},
   "cell_type": "markdown",
   "metadata": {},
   "source": [
    "Text type includes strings that represent a sequence of characters."
   ]
  },
  {
   "cell_type": "code",
   "execution_count": 85,
   "metadata": {},
   "outputs": [
    {
     "name": "stdout",
     "output_type": "stream",
     "text": [
      "Hello, world!\n",
      "13\n",
      "Hello\n",
      "Hello, world! How are you today?\n",
      "Hello, Python!\n",
      "['Hello,', 'world!']\n",
      "Hello,----world!\n",
      "Hello,----world!\n",
      "HELLO, WORLD!\n",
      "hello, world!\n",
      "The string contains 'world'.\n"
     ]
    }
   ],
   "source": [
    "# Define a string\n",
    "s = \"Hello, world!\"\n",
    "\n",
    "# Print the string\n",
    "print(s)\n",
    "\n",
    "# Get the length of the string\n",
    "print(len(s))\n",
    "\n",
    "# Get a substring\n",
    "print(s[0:5])\n",
    "\n",
    "# Concatenate strings\n",
    "s2 = \" How are you today?\"\n",
    "s3 = s + s2\n",
    "print(s3)\n",
    "\n",
    "# Replace a substring\n",
    "s4 = s.replace(\"world\", \"Python\")\n",
    "print(s4)\n",
    "\n",
    "# Split a string into a list of words\n",
    "words = s.split()\n",
    "print(words) \n",
    "\n",
    "# Join a list of words into a string\n",
    "s5 = \"----\".join(words)\n",
    "print(s5)\n",
    "\n",
    "# Remove all leading and trailing whitespaces from the string\n",
    "s6 = \"  \" + s5 + \"  \"\n",
    "print(s6.strip())\n",
    "\n",
    "# Convert the string to uppercase\n",
    "s7 = s.upper()\n",
    "print(s7)   \n",
    "\n",
    "# Convert the string to lowercase\n",
    "s8 = s.lower()\n",
    "print(s8)\n",
    "\n",
    "# Check if a string contains a substring\n",
    "if \"world\" in s:\n",
    "    print(\"The string contains 'world'.\")\n",
    "else:\n",
    "    print(\"The string does not contain 'world'.\")\n",
    "\n",
    "# Output: The string contains 'world'."
   ]
  },
  {
   "attachments": {},
   "cell_type": "markdown",
   "metadata": {},
   "source": [
    "### None Type"
   ]
  },
  {
   "attachments": {},
   "cell_type": "markdown",
   "metadata": {},
   "source": [
    "None type represents the absence of a value."
   ]
  },
  {
   "cell_type": "code",
   "execution_count": 86,
   "metadata": {},
   "outputs": [
    {
     "name": "stdout",
     "output_type": "stream",
     "text": [
      "Hello, world!\n",
      "None\n"
     ]
    }
   ],
   "source": [
    "def print_hello():\n",
    "    print(\"Hello, world!\")\n",
    "\n",
    "result = print_hello()\n",
    "print(result)   "
   ]
  },
  {
   "attachments": {},
   "cell_type": "markdown",
   "metadata": {},
   "source": [
    "### Type Annotation"
   ]
  },
  {
   "attachments": {},
   "cell_type": "markdown",
   "metadata": {},
   "source": [
    "Type annotations are a way of indicating the expected data type of a variable, function parameter, or function return value.\n",
    "<br>\n",
    "Type annotations are *not enforced* at runtime, but they can be useful for documentation purposes and for catching type-related errors early during development."
   ]
  },
  {
   "cell_type": "code",
   "execution_count": 87,
   "metadata": {},
   "outputs": [],
   "source": [
    "my_variable: str = \"Hello, World!\"\n",
    "\n",
    "num: int = 100\n",
    "\n",
    "def greet(name: str) -> str:\n",
    "    return f\"Hello, {name}!\""
   ]
  },
  {
   "cell_type": "markdown",
   "metadata": {},
   "source": [
    "## Functions"
   ]
  },
  {
   "cell_type": "markdown",
   "metadata": {},
   "source": [
    "#### Basics"
   ]
  },
  {
   "cell_type": "markdown",
   "metadata": {},
   "source": [
    "In Python, you can define a function using the `def` keyword. Here's a simple example"
   ]
  },
  {
   "cell_type": "code",
   "execution_count": 11,
   "metadata": {},
   "outputs": [
    {
     "name": "stdout",
     "output_type": "stream",
     "text": [
      "Hello, John!\n"
     ]
    }
   ],
   "source": [
    "def greet(name):\n",
    "    \"\"\"This function greets the person passed in as a parameter.\"\"\"\n",
    "    print(f\"Hello, {name}!\")\n",
    "\n",
    "# Calling the function\n",
    "greet(\"John\")"
   ]
  },
  {
   "cell_type": "markdown",
   "metadata": {},
   "source": [
    "### Recursive"
   ]
  },
  {
   "cell_type": "markdown",
   "metadata": {},
   "source": [
    "Functions can call themselves, a concept known as recursion."
   ]
  },
  {
   "cell_type": "code",
   "execution_count": 14,
   "metadata": {},
   "outputs": [
    {
     "name": "stdout",
     "output_type": "stream",
     "text": [
      "120\n"
     ]
    }
   ],
   "source": [
    "def factorial(n):\n",
    "    \"\"\"This function calculates the factorial of a number.\"\"\"\n",
    "    if n == 0 or n == 1:\n",
    "        return 1\n",
    "    else:\n",
    "        return n * factorial(n-1)\n",
    "\n",
    "result = factorial(5)\n",
    "print(result)  # Output: 120"
   ]
  },
  {
   "cell_type": "code",
   "execution_count": 17,
   "metadata": {},
   "outputs": [
    {
     "name": "stdout",
     "output_type": "stream",
     "text": [
      "[0, 1, 1, 2, 3, 5, 8, 13, 21, 34]\n"
     ]
    }
   ],
   "source": [
    "def fibonacci(n):\n",
    "    \"\"\"This function calculates the nth Fibonacci number using recursion.\"\"\"\n",
    "    if n <= 1:\n",
    "        return n\n",
    "    else:\n",
    "        return fibonacci(n-1) + fibonacci(n-2)\n",
    "\n",
    "result = []\n",
    "for i in range(10):\n",
    "    result.append(fibonacci(i))\n",
    "print(result)"
   ]
  },
  {
   "cell_type": "code",
   "execution_count": 18,
   "metadata": {},
   "outputs": [
    {
     "name": "stdout",
     "output_type": "stream",
     "text": [
      "Move disk 1 from A to C\n",
      "Move disk 2 from A to B\n",
      "Move disk 1 from C to B\n",
      "Move disk 3 from A to C\n",
      "Move disk 1 from B to A\n",
      "Move disk 2 from B to C\n",
      "Move disk 1 from A to C\n"
     ]
    }
   ],
   "source": [
    "def hanoi(n, source, target, auxiliary):\n",
    "    \"\"\"This function solves the Tower of Hanoi problem using recursion.\"\"\"\n",
    "    if n > 0:\n",
    "        hanoi(n-1, source, auxiliary, target)\n",
    "        print(f\"Move disk {n} from {source} to {target}\")\n",
    "        hanoi(n-1, auxiliary, target, source)\n",
    "\n",
    "hanoi(3, 'A', 'C', 'B')\n"
   ]
  },
  {
   "cell_type": "markdown",
   "metadata": {},
   "source": [
    "### Higher-Order Functions"
   ]
  },
  {
   "cell_type": "markdown",
   "metadata": {},
   "source": [
    "Functions can take other functions as parameters or return them."
   ]
  },
  {
   "cell_type": "code",
   "execution_count": 15,
   "metadata": {},
   "outputs": [
    {
     "name": "stdout",
     "output_type": "stream",
     "text": [
      "7\n"
     ]
    }
   ],
   "source": [
    "def apply_operation(x, y, operation):\n",
    "    \"\"\"This function applies a binary operation to two numbers.\"\"\"\n",
    "    return operation(x, y)\n",
    "\n",
    "def add(x, y):\n",
    "    return x + y\n",
    "\n",
    "result = apply_operation(3, 4, add)\n",
    "print(result)  # Output: 7\n"
   ]
  },
  {
   "cell_type": "markdown",
   "metadata": {},
   "source": [
    "### Lambda Functions"
   ]
  },
  {
   "cell_type": "markdown",
   "metadata": {},
   "source": [
    "Lambda functions, also known as anonymous functions, are functions without a name.\n",
    "<br>\n",
    "They are typically used when you need a small function that will only be used once and it doesn't make sense to define a named function."
   ]
  },
  {
   "cell_type": "code",
   "execution_count": null,
   "metadata": {},
   "outputs": [
    {
     "name": "stdout",
     "output_type": "stream",
     "text": [
      "25\n"
     ]
    }
   ],
   "source": [
    "square = lambda x: x**2\n",
    "\n",
    "# Calling the lambda function\n",
    "result = square(5)\n",
    "print(result)"
   ]
  },
  {
   "cell_type": "code",
   "execution_count": null,
   "metadata": {},
   "outputs": [
    {
     "name": "stdout",
     "output_type": "stream",
     "text": [
      "{'name': 'Bob', 'age': 30}\n",
      "{'name': 'Alice', 'age': 25}\n",
      "{'name': 'Charlie', 'age': 20}\n"
     ]
    }
   ],
   "source": [
    "people = [{\"name\": \"Alice\", \"age\": 25}, {\"name\": \"Bob\", \"age\": 30}, {\"name\": \"Charlie\", \"age\": 20}]\n",
    "\n",
    "# Sorting the list of dictionaries by age using a lambda function\n",
    "sorted_people = sorted(people , key = lambda x : x[\"age\"] , reverse = True)\n",
    "\n",
    "# Printing the sorted list of dictionaries\n",
    "for person in sorted_people:\n",
    "    print(person)"
   ]
  },
  {
   "cell_type": "markdown",
   "metadata": {},
   "source": [
    "#### Nested Lambda Functions"
   ]
  },
  {
   "cell_type": "markdown",
   "metadata": {},
   "source": [
    "Nested lambda functions are lambda functions that are defined inside other lambda functions."
   ]
  },
  {
   "cell_type": "code",
   "execution_count": null,
   "metadata": {},
   "outputs": [
    {
     "name": "stdout",
     "output_type": "stream",
     "text": [
      "20\n",
      "15\n",
      "1024\n"
     ]
    }
   ],
   "source": [
    "multiply = lambda x: (lambda y: x * y)\n",
    "multiply_by_2 = multiply(2)\n",
    "res1 = multiply_by_2(10)\n",
    "\n",
    "add = lambda x: (lambda y: x + y)\n",
    "add_5 = add(5)\n",
    "res2 = add_5(10)\n",
    "square = lambda x: (lambda y: x ** y)\n",
    "square_of_2 = square(2)\n",
    "res3 = square_of_2(10)\n",
    "\n",
    "print(res1, res2, res3, sep = \"\\n\")"
   ]
  },
  {
   "attachments": {},
   "cell_type": "markdown",
   "metadata": {},
   "source": [
    "## Some Tricks And Methods"
   ]
  },
  {
   "attachments": {},
   "cell_type": "markdown",
   "metadata": {},
   "source": [
    "### yield and return "
   ]
  },
  {
   "attachments": {},
   "cell_type": "markdown",
   "metadata": {},
   "source": [
    "`yield` and `return` are both used to return values from functions in Python, but they have different behaviors and purposes.\n",
    "\n",
    "The `return` statement is used to return a value from a function and terminate the function's execution. Once a return statement is encountered, the function stops executing and control is returned to the calling code. The returned value can be assigned to a variable or used in an expression.\n",
    "\n",
    "On the other hand, the `yield` statement is used to define a generator function, which generates a sequence of values that can be iterated over. When a `yield` statement is encountered in a generator function, the function's state is saved and the yielded value is returned to the calling code. The next time the generator's `next()` method is called, the function resumes execution from where it left off, with all of its variables and data intact.\n",
    "\n",
    "So the main difference between `yield` and `return` is that `return` is used to return a single value and terminate the function's execution, while `yield` is used to generate a sequence of values and pause the function's execution. `yield` allows the function to be resumed from where it left off, while `return` does not."
   ]
  },
  {
   "cell_type": "code",
   "execution_count": 88,
   "metadata": {},
   "outputs": [
    {
     "name": "stdout",
     "output_type": "stream",
     "text": [
      "1\n",
      "2\n",
      "3\n",
      "4\n",
      "5\n"
     ]
    }
   ],
   "source": [
    "def count_up_to(n):\n",
    "    for i in range(1, n + 1):\n",
    "        yield i\n",
    "\n",
    "for num in count_up_to(5):\n",
    "    print(num)"
   ]
  },
  {
   "cell_type": "code",
   "execution_count": 89,
   "metadata": {},
   "outputs": [
    {
     "name": "stdout",
     "output_type": "stream",
     "text": [
      "5\n",
      "4\n",
      "3\n",
      "2\n",
      "1\n"
     ]
    }
   ],
   "source": [
    "def countdown(n):\n",
    "    while n > 0:\n",
    "        yield n\n",
    "        n -= 1\n",
    "\n",
    "for i in countdown(5):\n",
    "    print(i)"
   ]
  },
  {
   "cell_type": "code",
   "execution_count": 90,
   "metadata": {
    "tags": []
   },
   "outputs": [
    {
     "name": "stdout",
     "output_type": "stream",
     "text": [
      "[1, 3, 5, 7, 9, 11, 13, 15, 17, 19]\n"
     ]
    }
   ],
   "source": [
    "def filter_odd(numbers):\n",
    "    for number in range(numbers):\n",
    "        if number % 2 != 0:\n",
    "            yield number\n",
    "\n",
    "odd_numbers = filter_odd(20)\n",
    "\n",
    "print(list(odd_numbers))"
   ]
  },
  {
   "cell_type": "code",
   "execution_count": 91,
   "metadata": {},
   "outputs": [
    {
     "name": "stdout",
     "output_type": "stream",
     "text": [
      "0\n",
      "1\n",
      "1\n",
      "2\n",
      "3\n",
      "5\n",
      "8\n",
      "13\n",
      "21\n"
     ]
    }
   ],
   "source": [
    "def fibonacci():\n",
    "    a, b = 0, 1\n",
    "    while True:\n",
    "        yield a\n",
    "        a, b = b, a + b\n",
    "        \n",
    "fib = fibonacci()\n",
    "\n",
    "for i in range(1, 10):\n",
    "    print(next(fib))"
   ]
  },
  {
   "cell_type": "code",
   "execution_count": 92,
   "metadata": {},
   "outputs": [
    {
     "name": "stdout",
     "output_type": "stream",
     "text": [
      "2\n",
      "3\n",
      "5\n",
      "7\n",
      "11\n",
      "13\n",
      "17\n",
      "19\n",
      "23\n",
      "29\n"
     ]
    }
   ],
   "source": [
    "def primes():\n",
    "    yield 2\n",
    "    primes = [2]\n",
    "    n = 3\n",
    "    while True:\n",
    "        for p in primes:\n",
    "            if n % p == 0:\n",
    "                break\n",
    "        else:\n",
    "            yield n\n",
    "            primes.append(n)\n",
    "        n += 2\n",
    "        \n",
    "gen = primes()\n",
    "for i in range(10):\n",
    "    print(next(gen))"
   ]
  },
  {
   "cell_type": "markdown",
   "metadata": {},
   "source": [
    "### Decorators and Wrappers"
   ]
  },
  {
   "cell_type": "markdown",
   "metadata": {},
   "source": [
    "In Python, a decorator is a design pattern that allows you to extend or modify the behavior of callable objects (functions or methods) without modifying their actual code. Decorators are often used to wrap functions with additional functionality."
   ]
  },
  {
   "cell_type": "markdown",
   "metadata": {},
   "source": [
    "A decorator is a higher-order function that takes a function as input and returns a new function with extended functionality. <br> The `@decorator` syntax is a shorthand for applying a decorator to a function."
   ]
  },
  {
   "cell_type": "markdown",
   "metadata": {},
   "source": [
    "Here's a basic example of a decorator that adds some functionality before and after the original function is called"
   ]
  },
  {
   "cell_type": "code",
   "execution_count": 1,
   "metadata": {},
   "outputs": [
    {
     "name": "stdout",
     "output_type": "stream",
     "text": [
      "Something is happening before the function is called.\n",
      "Hello!\n",
      "Something is happening after the function is called.\n"
     ]
    }
   ],
   "source": [
    "def my_decorator(func):\n",
    "    def wrapper():\n",
    "        print(\"Something is happening before the function is called.\")\n",
    "        func()\n",
    "        print(\"Something is happening after the function is called.\")\n",
    "    return wrapper\n",
    "\n",
    "@my_decorator\n",
    "def say_hello():\n",
    "    print(\"Hello!\")\n",
    "\n",
    "# Calling the decorated function\n",
    "say_hello()\n"
   ]
  },
  {
   "cell_type": "markdown",
   "metadata": {},
   "source": [
    "You can create decorators that accept arguments by adding an extra layer of function wrapping:"
   ]
  },
  {
   "cell_type": "code",
   "execution_count": 4,
   "metadata": {},
   "outputs": [
    {
     "name": "stdout",
     "output_type": "stream",
     "text": [
      "Hello, John!\n",
      "Hello, John!\n",
      "Hello, John!\n"
     ]
    }
   ],
   "source": [
    "def repeat(n):\n",
    "    def decorator(func):\n",
    "        def wrapper(*args, **kwargs):\n",
    "            for _ in range(n):\n",
    "                func(*args, **kwargs)\n",
    "        return wrapper\n",
    "    return decorator\n",
    "\n",
    "@repeat(3)\n",
    "def greet(name):\n",
    "    print(f\"Hello, {name}!\")\n",
    "\n",
    "# Calling the decorated function\n",
    "greet(\"John\")"
   ]
  },
  {
   "cell_type": "markdown",
   "metadata": {},
   "source": [
    "#### Class-based Decorator:"
   ]
  },
  {
   "cell_type": "markdown",
   "metadata": {},
   "source": [
    "Decorators can also be implemented using classes by defining `__call__`method:\n",
    "\n"
   ]
  },
  {
   "cell_type": "code",
   "execution_count": 5,
   "metadata": {},
   "outputs": [
    {
     "name": "stdout",
     "output_type": "stream",
     "text": [
      "Something is happening before the function is called.\n",
      "Hi!\n",
      "Something is happening after the function is called.\n"
     ]
    }
   ],
   "source": [
    "class MyDecorator:\n",
    "    def __init__(self, func):\n",
    "        self.func = func\n",
    "\n",
    "    def __call__(self, *args, **kwargs):\n",
    "        print(\"Something is happening before the function is called.\")\n",
    "        self.func(*args, **kwargs)\n",
    "        print(\"Something is happening after the function is called.\")\n",
    "\n",
    "@MyDecorator\n",
    "def say_hi():\n",
    "    print(\"Hi!\")\n",
    "\n",
    "# Calling the decorated function\n",
    "say_hi()\n"
   ]
  },
  {
   "cell_type": "markdown",
   "metadata": {},
   "source": [
    "#### Execution time"
   ]
  },
  {
   "cell_type": "code",
   "execution_count": 10,
   "metadata": {},
   "outputs": [
    {
     "name": "stdout",
     "output_type": "stream",
     "text": [
      "Function executed.\n",
      "example_function execution time: 0.70 seconds\n"
     ]
    }
   ],
   "source": [
    "import time\n",
    "\n",
    "def timing_decorator(func):\n",
    "    def wrapper(*args, **kwargs):\n",
    "        start_time = time.time()\n",
    "        result = func(*args, **kwargs)\n",
    "        end_time = time.time()\n",
    "        elapsed_time = end_time - start_time\n",
    "        print(f\"{func.__name__} execution time: {elapsed_time:.2f} seconds\")\n",
    "        return result\n",
    "    return wrapper\n",
    "\n",
    "@timing_decorator\n",
    "def example_function():\n",
    "    # time.sleep(2)\n",
    "    a = 0\n",
    "    for _ in range(10000000):\n",
    "        a = a+1\n",
    "    print(\"Function executed.\")\n",
    "    \n",
    "\n",
    "# Call the decorated function\n",
    "example_function()\n"
   ]
  },
  {
   "attachments": {},
   "cell_type": "markdown",
   "metadata": {},
   "source": [
    "### List Slicing"
   ]
  },
  {
   "cell_type": "code",
   "execution_count": 93,
   "metadata": {},
   "outputs": [
    {
     "name": "stdout",
     "output_type": "stream",
     "text": [
      "[3, 4, 5, 6, 7]\n",
      "[1, 2, 3]\n",
      "[8, 9, 10]\n",
      "[2, 4, 6, 8, 10]\n",
      "[10, 9, 8, 7, 6, 5, 4, 3, 2, 1]\n"
     ]
    }
   ],
   "source": [
    "my_list = [1, 2, 3, 4, 5, 6, 7, 8, 9, 10]\n",
    "sliced_list = my_list[2:7]\n",
    "print(sliced_list)\n",
    "\n",
    "# Get the first three elements of the list\n",
    "first_three = my_list[:3]\n",
    "print(first_three)\n",
    "\n",
    "# Get the last three elements of the list\n",
    "last_three = my_list[-3:]\n",
    "print(last_three)\n",
    "\n",
    "# Get every other element of the list, starting from the second element\n",
    "every_other = my_list[1::2]\n",
    "print(every_other)\n",
    "\n",
    "# Reverse the order of the list\n",
    "reversed_list = my_list[::-1]\n",
    "print(reversed_list)"
   ]
  },
  {
   "cell_type": "code",
   "execution_count": 94,
   "metadata": {},
   "outputs": [
    {
     "name": "stdout",
     "output_type": "stream",
     "text": [
      "Sliced list: [2, 4, 6]\n"
     ]
    }
   ],
   "source": [
    "numbers = [0, 1, 2, 3, 4, 5, 6, 7, 8, 9]\n",
    "\n",
    "s = slice(2, 7, 2)\n",
    "result = numbers[s]\n",
    "\n",
    "print(\"Sliced list:\", result)"
   ]
  },
  {
   "attachments": {},
   "cell_type": "markdown",
   "metadata": {},
   "source": [
    "### List Comprehension"
   ]
  },
  {
   "cell_type": "code",
   "execution_count": 95,
   "metadata": {},
   "outputs": [
    {
     "name": "stdout",
     "output_type": "stream",
     "text": [
      "[0, 1, 4, 9, 16, 25, 36, 49, 64, 81]\n",
      "[6, 8, 10]\n",
      "[3, 4, 5]\n",
      "[12, 14, 16, 15, 18, 21, 24, 20, 24, 28, 32]\n",
      "[1, 2, 3, 4, 5]\n"
     ]
    }
   ],
   "source": [
    "squares_list = [x**2 for x in range(10)]\n",
    "print(squares_list)\n",
    "\n",
    "even_list = [x for x in range(12) if x % 2 == 0 and x > 4 and x <= 10]\n",
    "print(even_list)\n",
    "\n",
    "list1 = [1, 2, 3, 4, 5]\n",
    "list2 = [3, 4, 5, 6, 7]\n",
    "common_elements = [x for x in list1 if x in list2]\n",
    "print(common_elements)\n",
    "\n",
    "list3 = [1, 2, 3, 4]\n",
    "list4 = [5, 6, 7, 8]\n",
    "product_list = [x * y for x in list3 for y in list4 if x * y > 10]\n",
    "print(product_list)\n",
    "\n",
    "list5 = [int(i) for i in input().split()]\n",
    "print(list5)"
   ]
  },
  {
   "attachments": {},
   "cell_type": "markdown",
   "metadata": {},
   "source": [
    "### Unpacking Iterables and Arguments"
   ]
  },
  {
   "cell_type": "code",
   "execution_count": 96,
   "metadata": {},
   "outputs": [
    {
     "name": "stdout",
     "output_type": "stream",
     "text": [
      "Shadmehr is 25 years old.\n",
      "Ali is 30 years old.\n",
      "1 2 3\n"
     ]
    }
   ],
   "source": [
    "people = [(\"Shadmehr\", 25), (\"Ali\", 30)]\n",
    "for name, age in people:\n",
    "    print(f\"{name} is {age} years old.\")\n",
    "\n",
    "lst = [1, 2, 3]\n",
    "print(*lst)"
   ]
  },
  {
   "cell_type": "code",
   "execution_count": 97,
   "metadata": {},
   "outputs": [
    {
     "name": "stdout",
     "output_type": "stream",
     "text": [
      "Hello, Shadmehr! You are 20 years old.\n"
     ]
    }
   ],
   "source": [
    "def greet(name, age):\n",
    "    print(f\"Hello, {name}! You are {age} years old.\")\n",
    "    \n",
    "person = {\"name\": \"Shadmehr\", \"age\": 20}\n",
    "greet(**person)"
   ]
  },
  {
   "attachments": {},
   "cell_type": "markdown",
   "metadata": {},
   "source": [
    "### next()"
   ]
  },
  {
   "attachments": {},
   "cell_type": "markdown",
   "metadata": {},
   "source": [
    "The `next()` function returns the next item from an iterator."
   ]
  },
  {
   "cell_type": "code",
   "execution_count": 101,
   "metadata": {},
   "outputs": [
    {
     "name": "stdout",
     "output_type": "stream",
     "text": [
      "1\n",
      "2\n",
      "3\n",
      "4\n",
      "5\n"
     ]
    }
   ],
   "source": [
    "my_list = [1, 2, 3, 4, 5]\n",
    "my_iterator = iter(my_list)\n",
    "\n",
    "# Using the next() function to get the next item in the iterator\n",
    "print(next(my_iterator))\n",
    "print(next(my_iterator))\n",
    "print(next(my_iterator))\n",
    "print(next(my_iterator))\n",
    "print(next(my_iterator))"
   ]
  },
  {
   "attachments": {},
   "cell_type": "markdown",
   "metadata": {},
   "source": [
    "### map() "
   ]
  },
  {
   "attachments": {},
   "cell_type": "markdown",
   "metadata": {},
   "source": [
    "The `map()` function can be used to apply a function to each element of a list."
   ]
  },
  {
   "cell_type": "code",
   "execution_count": 102,
   "metadata": {},
   "outputs": [
    {
     "name": "stdout",
     "output_type": "stream",
     "text": [
      "[12, 22, 33, 44]\n",
      "1 2\n"
     ]
    }
   ],
   "source": [
    "stl = [\"12\",\"22\" ,\"33\" ,\"44\"]\n",
    "num_list = list(map(int , stl))\n",
    "print(num_list)\n",
    "\n",
    "a, b = map(int, input().split())\n",
    "print(a, b)"
   ]
  },
  {
   "attachments": {},
   "cell_type": "markdown",
   "metadata": {},
   "source": [
    "### filter() "
   ]
  },
  {
   "attachments": {},
   "cell_type": "markdown",
   "metadata": {},
   "source": [
    "The `filter()` function can be used to filter elements from a list based on a condition."
   ]
  },
  {
   "cell_type": "code",
   "execution_count": 103,
   "metadata": {},
   "outputs": [
    {
     "name": "stdout",
     "output_type": "stream",
     "text": [
      "[2, 4, 6, 8, 10]\n",
      "[1, 3, 5, 7, 9]\n"
     ]
    }
   ],
   "source": [
    "numbers = [1, 2, 3, 4, 5, 6, 7, 8, 9, 10]\n",
    "\n",
    "# Defining the filtering function\n",
    "def is_even(n):\n",
    "    return n % 2 == 0\n",
    "\n",
    "even_numbers = list(filter(is_even, numbers))\n",
    "\n",
    "filtered_list = list(filter(lambda x: x % 2 != 0, numbers))\n",
    "\n",
    "print(even_numbers)\n",
    "print(filtered_list)"
   ]
  },
  {
   "attachments": {},
   "cell_type": "markdown",
   "metadata": {},
   "source": [
    "### any() and all()"
   ]
  },
  {
   "attachments": {},
   "cell_type": "markdown",
   "metadata": {},
   "source": [
    "The `any()` function returns `True` if *at least one* element of a list is `True`, while the `all()` function returns `True` if *all* elements are `True`."
   ]
  },
  {
   "cell_type": "code",
   "execution_count": 104,
   "metadata": {},
   "outputs": [
    {
     "name": "stdout",
     "output_type": "stream",
     "text": [
      "At least one number is greater than 10.\n",
      "At least one number is not greater than 10.\n"
     ]
    }
   ],
   "source": [
    "numbers = [5, 10, 15, 20]\n",
    "\n",
    "if any(num > 10 for num in numbers):\n",
    "    print(\"At least one number is greater than 10.\")\n",
    "else:\n",
    "    print(\"No number is greater than 10.\")\n",
    "\n",
    "if all(num > 10 for num in numbers):\n",
    "    print(\"All numbers are greater than 0.\")\n",
    "else:\n",
    "    print(\"At least one number is not greater than 10.\")"
   ]
  },
  {
   "cell_type": "code",
   "execution_count": 105,
   "metadata": {},
   "outputs": [
    {
     "name": "stdout",
     "output_type": "stream",
     "text": [
      "At least one engineer is older than 30.\n",
      "All people are between 18 and 65.\n"
     ]
    }
   ],
   "source": [
    "people = [\n",
    "    {\"name\": \"Alice\", \"age\": 25, \"occupation\": \"doctor\"},\n",
    "    {\"name\": \"Bob\", \"age\": 30, \"occupation\": \"engineer\"},\n",
    "    {\"name\": \"Charlie\", \"age\": 35, \"occupation\": \"engineer\"},\n",
    "    {\"name\": \"David\", \"age\": 40, \"occupation\": \"teacher\"}\n",
    "]\n",
    "\n",
    "# Check if at least one engineer is older than 30 using any()\n",
    "if any(person[\"occupation\"] == \"engineer\" and person[\"age\"] > 30 for person in people):\n",
    "    print(\"At least one engineer is older than 30.\")\n",
    "else:\n",
    "    print(\"No engineer is older than 30.\")\n",
    "\n",
    "# Check if all people are between 18 and 65 using all()\n",
    "if all(18 <= person[\"age\"] <= 65 for person in people):\n",
    "    print(\"All people are between 18 and 65.\")\n",
    "else:\n",
    "    print(\"At least one person is either younger than 18 or older than 65.\")"
   ]
  },
  {
   "attachments": {},
   "cell_type": "markdown",
   "metadata": {},
   "source": [
    "### String Formatting"
   ]
  },
  {
   "attachments": {},
   "cell_type": "markdown",
   "metadata": {},
   "source": [
    "This feature allows you to create dynamic strings."
   ]
  },
  {
   "cell_type": "code",
   "execution_count": 106,
   "metadata": {},
   "outputs": [
    {
     "name": "stdout",
     "output_type": "stream",
     "text": [
      "My name is Shadmehr, I am 20 years old, and I am 1.91 meters tall.\n",
      "My name is Shadmehr, I am 20 years old, and I am 1.91 meters tall.\n",
      "My name is Shadmehr, I am 20 years old, and I am 1.91 meters tall.\n"
     ]
    }
   ],
   "source": [
    "name = \"Shadmehr\"\n",
    "age = 20\n",
    "height = 1.91\n",
    "\n",
    "# Using f-strings for string formatting\n",
    "message = f\"My name is {name}, I am {age} years old, and I am {height:.2f} meters tall.\"\n",
    "print(message)\n",
    "\n",
    "# Using format() method for string formatting\n",
    "message = \"My name is {}, I am {} years old, and I am {:.2f} meters tall.\".format(name, age, height)\n",
    "print(message)\n",
    "\n",
    "# Using %-formatting for string formatting\n",
    "message = \"My name is %s, I am %d years old, and I am %.2f meters tall.\" % (name, age, height)\n",
    "print(message)"
   ]
  },
  {
   "cell_type": "code",
   "execution_count": 107,
   "metadata": {},
   "outputs": [
    {
     "name": "stdout",
     "output_type": "stream",
     "text": [
      "Alice is 20 years old and has an average grade of 90.00 in 3 courses.\n",
      "Alice has a grade of A in Math, B+ in History, and A- in English.\n"
     ]
    }
   ],
   "source": [
    "student = {\n",
    "    \"name\": \"Alice\",\n",
    "    \"age\": 20,\n",
    "    \"grades\": [85, 90, 95],\n",
    "    \"courses\": {\n",
    "        \"math\": \"A\",\n",
    "        \"history\": \"B+\",\n",
    "        \"english\": \"A-\"\n",
    "    }\n",
    "}\n",
    "\n",
    "# Using f-strings with nested expressions for string formatting\n",
    "message = f\"{student['name']} is {student['age']} years old and has an average grade of {sum(student['grades'])/len(student['grades']):.2f} in {len(student['grades'])} courses.\"\n",
    "print(message)\n",
    "\n",
    "# Using the format() method with named placeholders for string formatting\n",
    "message = \"{name} has a grade of {courses[math]} in Math, {courses[history]} in History, and {courses[english]} in English.\".format(**student)\n",
    "print(message)\n"
   ]
  },
  {
   "attachments": {},
   "cell_type": "markdown",
   "metadata": {},
   "source": [
    "### zip()"
   ]
  },
  {
   "attachments": {},
   "cell_type": "markdown",
   "metadata": {},
   "source": [
    "The `zip()` function takes in iterables as arguments and returns an iterator. This iterator generates a series of tuples containing elements from each iterable.\n",
    "\n",
    "Note that you can use the `*` operator with `zip()` to *unzip* a list of tuples into separate lists."
   ]
  },
  {
   "cell_type": "code",
   "execution_count": 108,
   "metadata": {},
   "outputs": [
    {
     "name": "stdout",
     "output_type": "stream",
     "text": [
      "(1, 'a')\n",
      "(2, 'b')\n",
      "(3, 'c')\n",
      "(4, 'd')\n",
      "(5, 'e')\n",
      "\n",
      "{1: 'a', 2: 'b', 3: 'c', 4: 'd', 5: 'e'}\n"
     ]
    }
   ],
   "source": [
    "numbers = [1, 2, 3, 4, 5]\n",
    "letters = [\"a\", \"b\", \"c\", \"d\", \"e\"]\n",
    "\n",
    "zipped = zip(numbers, letters)\n",
    "for item in zipped:\n",
    "    print(item)\n",
    "\n",
    "print()\n",
    "\n",
    "zipped = dict(list(zip(numbers, letters)))\n",
    "print(zipped)"
   ]
  },
  {
   "cell_type": "code",
   "execution_count": 109,
   "metadata": {},
   "outputs": [
    {
     "name": "stdout",
     "output_type": "stream",
     "text": [
      "(1, 3, 5) (2, 4, 6)\n"
     ]
    }
   ],
   "source": [
    "x, y = zip(*[(1, 2), (3, 4), (5, 6)])\n",
    "\n",
    "\"\"\"\n",
    "    zip((1, 2), (3, 4), (5, 6))\n",
    "\"\"\"\n",
    "\n",
    "print(x, y)"
   ]
  },
  {
   "attachments": {},
   "cell_type": "markdown",
   "metadata": {},
   "source": [
    "### enumerate() "
   ]
  },
  {
   "attachments": {},
   "cell_type": "markdown",
   "metadata": {},
   "source": [
    "The `enumerate()` function allows you to iterate over a list (or any iterable) and get both the index and the corresponding value of each item."
   ]
  },
  {
   "cell_type": "code",
   "execution_count": 110,
   "metadata": {},
   "outputs": [
    {
     "name": "stdout",
     "output_type": "stream",
     "text": [
      "[(0, 'apple'), (1, 'banana'), (2, 'orange'), (3, 'pear')]\n",
      "Index 0: apple\n",
      "Index 1: banana\n",
      "Index 2: orange\n",
      "Index 3: pear\n"
     ]
    }
   ],
   "source": [
    "fruits = [\"apple\", \"banana\", \"orange\", \"pear\"]\n",
    "\n",
    "print(list(enumerate(fruits)))\n",
    "\n",
    "for i, fruit in enumerate(fruits):\n",
    "    print(f\"Index {i}: {fruit}\")"
   ]
  },
  {
   "cell_type": "code",
   "execution_count": 111,
   "metadata": {},
   "outputs": [
    {
     "name": "stdout",
     "output_type": "stream",
     "text": [
      "The vowel a is at index 0.\n",
      "The consonant b is at index 1.\n",
      "The consonant c is at index 2.\n",
      "The consonant d is at index 3.\n",
      "The vowel e is at index 4.\n"
     ]
    }
   ],
   "source": [
    "letters = [\"a\", \"b\", \"c\", \"d\", \"e\"]\n",
    "vowels = [\"a\", \"e\", \"i\", \"o\", \"u\"]\n",
    "\n",
    "for i, letter in enumerate(letters):\n",
    "    if letter in vowels:\n",
    "        print(f\"The vowel {letter} is at index {i}.\")\n",
    "    else:\n",
    "        print(f\"The consonant {letter} is at index {i}.\")"
   ]
  },
  {
   "cell_type": "code",
   "execution_count": 112,
   "metadata": {},
   "outputs": [
    {
     "name": "stdout",
     "output_type": "stream",
     "text": [
      "The distance between (1, 2, 3) and (4, 5, 6) is 5.20.\n",
      "The distance between (1, 2, 3) and (7, 8, 9) is 10.39.\n",
      "The distance between (4, 5, 6) and (7, 8, 9) is 5.20.\n"
     ]
    }
   ],
   "source": [
    "import math\n",
    "\n",
    "# Define the list of tuples representing the points in 3D space\n",
    "points = [(1, 2, 3), (4, 5, 6), (7, 8, 9)]\n",
    "\n",
    "# Compute the distance between each pair of points using the Euclidean distance formula\n",
    "for i, p1 in enumerate(points):\n",
    "    for p2 in points[i + 1:]: \n",
    "        distance = math.sqrt((p1[0] - p2[0])**2 + (p1[1] - p2[1])**2 + (p1[2] - p2[2])**2)\n",
    "        print(f\"The distance between {p1} and {p2} is {distance:.2f}.\")"
   ]
  },
  {
   "attachments": {},
   "cell_type": "markdown",
   "metadata": {},
   "source": [
    "### sorted()"
   ]
  },
  {
   "attachments": {},
   "cell_type": "markdown",
   "metadata": {},
   "source": [
    "The `sorted()` function returns a sorted list of the specified iterable object.\n",
    "<br>\n",
    "It can take a key argument that specifies a function to be applied to each element of the iterable object before sorting."
   ]
  },
  {
   "cell_type": "code",
   "execution_count": 113,
   "metadata": {},
   "outputs": [
    {
     "name": "stdout",
     "output_type": "stream",
     "text": [
      "Sorted iterable object:  [1, 1, 2, 3, 3, 4, 5, 5, 5, 6, 9]\n"
     ]
    }
   ],
   "source": [
    "numbers = (3, 1, 4, 1, 5, 9, 2, 6, 5, 3, 5)\n",
    "\n",
    "sorted_numbers = sorted(numbers)\n",
    "\n",
    "print(\"Sorted iterable object: \", sorted_numbers)"
   ]
  },
  {
   "cell_type": "code",
   "execution_count": 114,
   "metadata": {},
   "outputs": [
    {
     "name": "stdout",
     "output_type": "stream",
     "text": [
      "Sorted list (reversed): ['pear', 'orange', 'banana', 'apple']\n",
      "Sorted list by length (reversed): ['banana', 'orange', 'apple', 'pear']\n"
     ]
    }
   ],
   "source": [
    "fruits = [\"apple\", \"banana\", \"orange\", \"pear\"]\n",
    "\n",
    "reverse_sorted_fruits = sorted(fruits, reverse = True)\n",
    "reverse_by_len = sorted(fruits, reverse = True, key = len)\n",
    "\n",
    "print(\"Sorted list (reversed):\", reverse_sorted_fruits)\n",
    "print(\"Sorted list by length (reversed):\", reverse_by_len)"
   ]
  },
  {
   "attachments": {},
   "cell_type": "markdown",
   "metadata": {},
   "source": [
    "## Working With files"
   ]
  },
  {
   "attachments": {},
   "cell_type": "markdown",
   "metadata": {},
   "source": [
    "In Python, you can read and write plain files using the built-in file handling capabilities. "
   ]
  },
  {
   "cell_type": "code",
   "execution_count": 45,
   "metadata": {},
   "outputs": [
    {
     "name": "stdout",
     "output_type": "stream",
     "text": [
      "Sample text.\n"
     ]
    }
   ],
   "source": [
    "# Open the file in read mode\n",
    "file = open(\"files/sample.txt\", \"r\")\n",
    "\n",
    "# Read the entire contents of the file\n",
    "content = file.read()\n",
    "\n",
    "# Print the contents\n",
    "print(content)\n",
    "\n",
    "# Close the file\n",
    "file.close()\n"
   ]
  },
  {
   "cell_type": "code",
   "execution_count": 46,
   "metadata": {},
   "outputs": [
    {
     "name": "stdout",
     "output_type": "stream",
     "text": [
      "This is some example content.\n"
     ]
    }
   ],
   "source": [
    "# Open the file in write mode\n",
    "file = open(\"files/sample.txt\", \"w\")\n",
    "\n",
    "# Write content to the file\n",
    "file.write(\"This is some example content.\")\n",
    "file = open(\"files/sample.txt\", \"r\")\n",
    "\n",
    "content = file.read()\n",
    "print(content)\n",
    "\n",
    "# Close the file\n",
    "file.close()\n"
   ]
  },
  {
   "attachments": {},
   "cell_type": "markdown",
   "metadata": {},
   "source": [
    "It's important to remember to close the file after reading from or writing to it to ensure proper resource management. <br> Alternatively, you can use the `with` statement to automatically handle the file closing for you:"
   ]
  },
  {
   "cell_type": "code",
   "execution_count": 47,
   "metadata": {},
   "outputs": [
    {
     "name": "stdout",
     "output_type": "stream",
     "text": [
      "This is some example content.\n"
     ]
    }
   ],
   "source": [
    "with open(\"files/sample.txt\", \"r\") as file:\n",
    "    content = file.read()\n",
    "    print(content)\n"
   ]
  },
  {
   "attachments": {},
   "cell_type": "markdown",
   "metadata": {},
   "source": [
    "With the with statement, you don't need to explicitly close the file since it will be automatically closed at the end of the block."
   ]
  },
  {
   "attachments": {},
   "cell_type": "markdown",
   "metadata": {},
   "source": [
    "#### You can use `r+` mode to read from and write to the same file"
   ]
  },
  {
   "cell_type": "code",
   "execution_count": 49,
   "metadata": {},
   "outputs": [
    {
     "name": "stdout",
     "output_type": "stream",
     "text": [
      "Existing content:\n",
      "sample text.\n",
      "Updated content:\n",
      "New content.\n",
      " Appended content\n"
     ]
    }
   ],
   "source": [
    "# Open the file in r+ mode\n",
    "with open(\"files/sample2.txt\", \"r+\") as file:\n",
    "    # Read the existing content\n",
    "    content = file.read()\n",
    "    print(\"Existing content:\")\n",
    "    print(content)\n",
    "\n",
    "    # Move the file pointer to the beginning\n",
    "    file.seek(0)\n",
    "\n",
    "    # Write new content at the beginning\n",
    "    file.write(\"New content\")\n",
    "\n",
    "    # Move the file pointer to the end\n",
    "    file.seek(0, 2)\n",
    "\n",
    "    # Append additional content\n",
    "    file.write(\"\\n Appended content\")\n",
    "\n",
    "    # Move the file pointer to the beginning\n",
    "    file.seek(0)\n",
    "\n",
    "    # Read the modified content\n",
    "    updated_content = file.read()\n",
    "    print(\"Updated content:\")\n",
    "    print(updated_content)\n"
   ]
  },
  {
   "attachments": {},
   "cell_type": "markdown",
   "metadata": {},
   "source": [
    "## Modules"
   ]
  },
  {
   "attachments": {},
   "cell_type": "markdown",
   "metadata": {},
   "source": [
    "### Pickle"
   ]
  },
  {
   "attachments": {},
   "cell_type": "markdown",
   "metadata": {},
   "source": [
    "**What is Pickle?** <br>\n",
    "\n",
    "Pickle is a module in Python's standard library that allows you to serialize (convert to a byte stream) and deserialize (convert from a byte stream) Python objects. It provides a way to store complex data structures, such as dictionaries, lists, and custom objects, in a file or transfer them between different Python programs.\n",
    "\n",
    "Pickle is commonly used when you need to save the state of an object or share data between different parts of a program or different programs altogether. It enables you to convert a Python object into a byte representation that can be stored or transmitted, and later restore it back to its original state."
   ]
  },
  {
   "attachments": {},
   "cell_type": "markdown",
   "metadata": {},
   "source": [
    "#### Example 1: Pickling and Unpickling a Dictionary\n",
    "\n"
   ]
  },
  {
   "cell_type": "code",
   "execution_count": 56,
   "metadata": {},
   "outputs": [
    {
     "name": "stdout",
     "output_type": "stream",
     "text": [
      "{'name': 'John Doe', 'age': 30, 'email': 'john@example.com'}\n"
     ]
    }
   ],
   "source": [
    "import pickle\n",
    "\n",
    "# Example dictionary\n",
    "data = {\n",
    "    'name': 'John Doe',\n",
    "    'age': 30,\n",
    "    'email': 'john@example.com'\n",
    "}\n",
    "\n",
    "# Pickling the data\n",
    "pickled_data = pickle.dumps(data)\n",
    "\n",
    "# Unpickling the data\n",
    "unpickled_data = pickle.loads(pickled_data)\n",
    "\n",
    "print(unpickled_data)\n"
   ]
  },
  {
   "attachments": {},
   "cell_type": "markdown",
   "metadata": {},
   "source": [
    "#### Example 2: Pickling and Unpickling a Custom Object\n",
    "\n"
   ]
  },
  {
   "cell_type": "code",
   "execution_count": 57,
   "metadata": {},
   "outputs": [
    {
     "name": "stdout",
     "output_type": "stream",
     "text": [
      "Hello, my name is John Doe.\n"
     ]
    }
   ],
   "source": [
    "import pickle\n",
    "\n",
    "# Example custom object\n",
    "class Person:\n",
    "    def __init__(self, name, age):\n",
    "        self.name = name\n",
    "        self.age = age\n",
    "\n",
    "    def greet(self):\n",
    "        print(f\"Hello, my name is {self.name}.\")\n",
    "\n",
    "person = Person(\"John Doe\", 30)\n",
    "\n",
    "# Pickling the object\n",
    "pickled_person = pickle.dumps(person)\n",
    "\n",
    "# Unpickling the object\n",
    "unpickled_person = pickle.loads(pickled_person)\n",
    "\n",
    "unpickled_person.greet()\n"
   ]
  },
  {
   "attachments": {},
   "cell_type": "markdown",
   "metadata": {},
   "source": [
    "### glob"
   ]
  },
  {
   "attachments": {},
   "cell_type": "markdown",
   "metadata": {},
   "source": [
    "**What is glob?** <br>\n",
    "\n",
    "The glob module in Python is used for searching and matching file paths and names based on specific patterns using wildcard characters. <br> It provides a simple and convenient way to retrieve files that match a given pattern."
   ]
  },
  {
   "attachments": {},
   "cell_type": "markdown",
   "metadata": {},
   "source": [
    "#### Example 1: List all text files in a directory\n",
    "\n"
   ]
  },
  {
   "cell_type": "code",
   "execution_count": 69,
   "metadata": {},
   "outputs": [
    {
     "name": "stdout",
     "output_type": "stream",
     "text": [
      "Text files:\n",
      "requirements.txt\n"
     ]
    }
   ],
   "source": [
    "import glob\n",
    "txt_files = glob.glob(\"*.txt\")\n",
    "\n",
    "print(\"Text files:\")\n",
    "for file in txt_files:\n",
    "    print(file)\n"
   ]
  },
  {
   "attachments": {},
   "cell_type": "markdown",
   "metadata": {},
   "source": [
    "#### Example 2: List files in subdirectories\n",
    "\n"
   ]
  },
  {
   "cell_type": "code",
   "execution_count": 70,
   "metadata": {},
   "outputs": [
    {
     "name": "stdout",
     "output_type": "stream",
     "text": [
      "All text files in subdirectories:\n",
      "requirements.txt\n",
      "files\\sample.txt\n",
      "files\\sample2.txt\n"
     ]
    }
   ],
   "source": [
    "all_files = glob.glob(\"**/*.txt\", recursive=True)\n",
    "\n",
    "print(\"All text files in subdirectories:\")\n",
    "for file in all_files:\n",
    "    print(file)\n"
   ]
  },
  {
   "attachments": {},
   "cell_type": "markdown",
   "metadata": {},
   "source": [
    "#### Example 3: List files with specific naming patterns\n",
    "\n"
   ]
  },
  {
   "cell_type": "code",
   "execution_count": 67,
   "metadata": {},
   "outputs": [
    {
     "name": "stdout",
     "output_type": "stream",
     "text": [
      "Files matching pattern:\n",
      "files\\sample2.txt\n"
     ]
    }
   ],
   "source": [
    "matching_files = glob.glob(\"files/sample[0-9].txt\")\n",
    "\n",
    "print(\"Files matching pattern:\")\n",
    "for file in matching_files:\n",
    "    print(file)\n"
   ]
  },
  {
   "cell_type": "markdown",
   "metadata": {},
   "source": [
    "### Regex"
   ]
  },
  {
   "cell_type": "markdown",
   "metadata": {},
   "source": [
    "The `re` module in Python provides support for working with regular expressions (regex). <br>\n",
    "It allows you to search, manipulate, and extract data from text using pattern matching. <br>\n",
    "If you want to learn Regex you can use [this](https://regexlearn.com/) link or just search it."
   ]
  },
  {
   "cell_type": "markdown",
   "metadata": {},
   "source": [
    "#### Example 1: Matching Patterns using search():\n",
    "\n"
   ]
  },
  {
   "cell_type": "code",
   "execution_count": 7,
   "metadata": {},
   "outputs": [
    {
     "name": "stdout",
     "output_type": "stream",
     "text": [
      "Match found: 2\n"
     ]
    }
   ],
   "source": [
    "import re\n",
    "\n",
    "text = \"Hello, I have 2 apples and 3 oranges.\"\n",
    "pattern = r\"\\d+\"\n",
    "\n",
    "match = re.search(pattern, text)\n",
    "if match:\n",
    "    print(\"Match found:\", match.group())\n",
    "else:\n",
    "    print(\"No match found.\")\n"
   ]
  },
  {
   "cell_type": "markdown",
   "metadata": {},
   "source": [
    "#### Example 2: Extracting Data using findall():\n",
    "\n"
   ]
  },
  {
   "cell_type": "code",
   "execution_count": 8,
   "metadata": {},
   "outputs": [
    {
     "name": "stdout",
     "output_type": "stream",
     "text": [
      "Email addresses found: ['john@example.com', 'jane@example.com']\n"
     ]
    }
   ],
   "source": [
    "\n",
    "text = \"John's email address is john@example.com, and Jane's email address is jane@example.com.\"\n",
    "pattern = r\"\\b\\w+@\\w+\\.\\w+\\b\"\n",
    "\n",
    "matches = re.findall(pattern, text)\n",
    "print(\"Email addresses found:\", matches)\n"
   ]
  },
  {
   "cell_type": "markdown",
   "metadata": {},
   "source": [
    "#### Example 3: Replacing Text using sub():"
   ]
  },
  {
   "cell_type": "code",
   "execution_count": 5,
   "metadata": {},
   "outputs": [
    {
     "name": "stdout",
     "output_type": "stream",
     "text": [
      "New text: Hello, my name is Jane. Hello, Jane!\n"
     ]
    }
   ],
   "source": [
    "\n",
    "text = \"Hello, my name is John. Hello, John!\"\n",
    "pattern = r\"John\"\n",
    "replacement = \"Jane\"\n",
    "\n",
    "new_text = re.sub(pattern, replacement, text)\n",
    "print(\"New text:\", new_text)\n"
   ]
  },
  {
   "cell_type": "markdown",
   "metadata": {},
   "source": [
    "#### Example 4: Splitting Text using split()\n",
    "\n"
   ]
  },
  {
   "cell_type": "code",
   "execution_count": 9,
   "metadata": {},
   "outputs": [
    {
     "name": "stdout",
     "output_type": "stream",
     "text": [
      "Words:\n",
      "Hello\n",
      "there\n",
      "How\n",
      "are\n",
      "you\n",
      "\n"
     ]
    }
   ],
   "source": [
    "text = \"Hello, there! How are you?\"\n",
    "\n",
    "# Split the text at punctuation marks\n",
    "words = re.split(r\"[^\\w']+|_\", text)\n",
    "\n",
    "print(\"Words:\")\n",
    "for word in words:\n",
    "    print(word)\n"
   ]
  },
  {
   "cell_type": "markdown",
   "metadata": {},
   "source": [
    "#### Example 5: Extracting Groups using groups()\n",
    "\n"
   ]
  },
  {
   "cell_type": "code",
   "execution_count": 11,
   "metadata": {},
   "outputs": [
    {
     "name": "stdout",
     "output_type": "stream",
     "text": [
      "Year: 2023\n",
      "Month: 07\n",
      "Day: 15\n"
     ]
    }
   ],
   "source": [
    "import re\n",
    "\n",
    "text = \"Date: 2023-07-15\"\n",
    "\n",
    "# Extract the year, month, and day using groups\n",
    "match = re.search(r\"(\\d{4})-(\\d{2})-(\\d{2})\", text)\n",
    "\n",
    "if match:\n",
    "    year, month, day = match.groups()\n",
    "    print(\"Year:\", year)\n",
    "    print(\"Month:\", month)\n",
    "    print(\"Day:\", day)\n",
    "else:\n",
    "    print(\"No match found.\")\n"
   ]
  },
  {
   "attachments": {},
   "cell_type": "markdown",
   "metadata": {},
   "source": [
    "### itertools"
   ]
  },
  {
   "attachments": {},
   "cell_type": "markdown",
   "metadata": {},
   "source": [
    "`itertool` is a module that provides various functions that work on iterators to produce complex iterators."
   ]
  },
  {
   "attachments": {},
   "cell_type": "markdown",
   "metadata": {},
   "source": [
    "#### itertools.cycle()"
   ]
  },
  {
   "attachments": {},
   "cell_type": "markdown",
   "metadata": {},
   "source": [
    "This function returns an iterator that repeats the elements of an iterable indefinitely"
   ]
  },
  {
   "cell_type": "code",
   "execution_count": 116,
   "metadata": {},
   "outputs": [
    {
     "name": "stdout",
     "output_type": "stream",
     "text": [
      "1\n",
      "2\n",
      "3\n",
      "1\n",
      "2\n",
      "3\n",
      "1\n",
      "2\n",
      "3\n",
      "1\n"
     ]
    }
   ],
   "source": [
    "import itertools \n",
    "cycle_iter = itertools.cycle([1, 2, 3])\n",
    "\n",
    "# Print the first 10 values of the cycle iterator\n",
    "for i in range(10):\n",
    "    print(next(cycle_iter))"
   ]
  },
  {
   "attachments": {},
   "cell_type": "markdown",
   "metadata": {},
   "source": [
    "#### itertools.chain()\n"
   ]
  },
  {
   "attachments": {},
   "cell_type": "markdown",
   "metadata": {},
   "source": [
    "This function takes one or more iterables and returns an iterator that yields the elements of each iterable in turn."
   ]
  },
  {
   "cell_type": "code",
   "execution_count": 117,
   "metadata": {},
   "outputs": [
    {
     "name": "stdout",
     "output_type": "stream",
     "text": [
      "1\n",
      "2\n",
      "3\n",
      "a\n",
      "b\n",
      "c\n"
     ]
    }
   ],
   "source": [
    "numbers = [1, 2, 3]\n",
    "letters = [\"a\", \"b\", \"c\"]\n",
    "\n",
    "for item in itertools.chain(numbers, letters):\n",
    "    print(item)"
   ]
  },
  {
   "attachments": {},
   "cell_type": "markdown",
   "metadata": {},
   "source": [
    "#### itertools.combinations()"
   ]
  },
  {
   "attachments": {},
   "cell_type": "markdown",
   "metadata": {},
   "source": [
    "This function returns an iterator that generates all possible combinations of a given length from an iterable."
   ]
  },
  {
   "cell_type": "code",
   "execution_count": 118,
   "metadata": {},
   "outputs": [
    {
     "name": "stdout",
     "output_type": "stream",
     "text": [
      "('red', 'green', 'blue')\n",
      "('red', 'green', 'orange')\n",
      "('red', 'blue', 'orange')\n",
      "('green', 'blue', 'orange')\n"
     ]
    }
   ],
   "source": [
    "colors = [\"red\", \"green\", \"blue\",\"orange\"]\n",
    "\n",
    "for combination in itertools.combinations(colors , 3):\n",
    "    print(combination)"
   ]
  },
  {
   "attachments": {},
   "cell_type": "markdown",
   "metadata": {},
   "source": [
    "#### itertools.permutations()"
   ]
  },
  {
   "attachments": {},
   "cell_type": "markdown",
   "metadata": {},
   "source": [
    "This function returns all possible permutations of a given iterable."
   ]
  },
  {
   "cell_type": "code",
   "execution_count": 119,
   "metadata": {},
   "outputs": [
    {
     "name": "stdout",
     "output_type": "stream",
     "text": [
      "('A', 'B', 'C', '*')\n",
      "('A', 'B', '*', 'C')\n",
      "('A', 'C', 'B', '*')\n",
      "('A', 'C', '*', 'B')\n",
      "('A', '*', 'B', 'C')\n",
      "('A', '*', 'C', 'B')\n",
      "('B', 'A', 'C', '*')\n",
      "('B', 'A', '*', 'C')\n",
      "('B', 'C', 'A', '*')\n",
      "('B', 'C', '*', 'A')\n",
      "('B', '*', 'A', 'C')\n",
      "('B', '*', 'C', 'A')\n",
      "('C', 'A', 'B', '*')\n",
      "('C', 'A', '*', 'B')\n",
      "('C', 'B', 'A', '*')\n",
      "('C', 'B', '*', 'A')\n",
      "('C', '*', 'A', 'B')\n",
      "('C', '*', 'B', 'A')\n",
      "('*', 'A', 'B', 'C')\n",
      "('*', 'A', 'C', 'B')\n",
      "('*', 'B', 'A', 'C')\n",
      "('*', 'B', 'C', 'A')\n",
      "('*', 'C', 'A', 'B')\n",
      "('*', 'C', 'B', 'A')\n"
     ]
    }
   ],
   "source": [
    "elements = [\"A\", \"B\", \"C\", \"*\"]\n",
    "permutations = itertools.permutations(elements)\n",
    "\n",
    "for permutation in permutations:\n",
    "    print(permutation)"
   ]
  },
  {
   "attachments": {},
   "cell_type": "markdown",
   "metadata": {},
   "source": [
    "---"
   ]
  },
  {
   "attachments": {},
   "cell_type": "markdown",
   "metadata": {},
   "source": [
    "# Chapter 2: The Dark Python "
   ]
  },
  {
   "attachments": {},
   "cell_type": "markdown",
   "metadata": {},
   "source": [
    "## Why Object-Oriented Programming (OOP)? "
   ]
  },
  {
   "attachments": {},
   "cell_type": "markdown",
   "metadata": {},
   "source": [
    "OOP is important for several reasons, including:\n",
    "\n",
    "**Code Organization**: OOP allows you to organize your code into smaller, more manageable modules called objects, which can be easily reused and modified. This can make your code more readable and easier to maintain, especially as your programs become more complex.\n",
    "\n",
    "**Code Reuse**: OOP promotes code reuse by allowing you to create classes that can be used to create multiple objects with similar characteristics. This reduces code duplication and can save time and effort when developing complex programs.\n",
    "\n",
    "**Polymorphism**: Polymorphism is another important aspect of OOP that allows objects of different classes to be treated as if they were of the same class. This can make your code more flexible and easier to maintain.\n",
    "\n",
    "**Modularity**: OOP promotes modularity by allowing you to break down your code into smaller, more manageable components. This can make your code easier to test, debug, and maintain."
   ]
  },
  {
   "attachments": {},
   "cell_type": "markdown",
   "metadata": {},
   "source": [
    "## Steps to Implement a Class"
   ]
  },
  {
   "attachments": {},
   "cell_type": "markdown",
   "metadata": {},
   "source": [
    "### Basics"
   ]
  },
  {
   "attachments": {},
   "cell_type": "markdown",
   "metadata": {},
   "source": [
    "it's so simple, trust me!"
   ]
  },
  {
   "cell_type": "code",
   "execution_count": 120,
   "metadata": {},
   "outputs": [],
   "source": [
    "class EasyToImplement:\n",
    "    # Your Methods\n",
    "    pass"
   ]
  },
  {
   "cell_type": "code",
   "execution_count": 121,
   "metadata": {},
   "outputs": [
    {
     "name": "stdout",
     "output_type": "stream",
     "text": [
      "Alice\n",
      "30\n"
     ]
    }
   ],
   "source": [
    "class Person:\n",
    "    def __init__(self, name, age):  # We will talk about this in a bit.\n",
    "        self.name = name\n",
    "        self.age = age\n",
    "\n",
    "person1 = Person(\"Alice\", 25)\n",
    "person2 = Person(\"Bob\", 30)\n",
    "\n",
    "print(person1.name)\n",
    "print(person2.age)  "
   ]
  },
  {
   "attachments": {},
   "cell_type": "markdown",
   "metadata": {},
   "source": [
    "#### What is `self`? "
   ]
  },
  {
   "attachments": {},
   "cell_type": "markdown",
   "metadata": {},
   "source": [
    "The `self` parameter is used to refer to the object *itself* so that you can access or modify its attributes and methods.\n",
    "<br>\n",
    "For example, if you wanted to modify an attribute of the object within the `my_method` method, you would use `self.attribute_name`.\n",
    "<br>\n",
    "Here's an example:"
   ]
  },
  {
   "cell_type": "code",
   "execution_count": 122,
   "metadata": {},
   "outputs": [
    {
     "name": "stdout",
     "output_type": "stream",
     "text": [
      "Hello, I'm Alice.\n"
     ]
    }
   ],
   "source": [
    "class Person:\n",
    "    def __init__(self, name, age):\n",
    "        self.name = name\n",
    "        self.age = age\n",
    "    \n",
    "    def say_hello(self):\n",
    "        print(f\"Hello, I'm {self.name}.\")\n",
    "        \n",
    "person1 = Person(\"Alice\", 25)\n",
    "person1.say_hello()"
   ]
  },
  {
   "attachments": {},
   "cell_type": "markdown",
   "metadata": {},
   "source": [
    "#### If we have to input `self` in every function, why isn't it there by default? "
   ]
  },
  {
   "attachments": {},
   "cell_type": "markdown",
   "metadata": {},
   "source": [
    "Because Python is a dynamically-typed language, which means that the type of a variable is determined at runtime rather than at compile time. This means that when you call a method on an object, Python needs to know which object the method belongs to. The `self` parameter is used to explicitly pass the object as an argument to the method. By including `self` as the *first* parameter in the method definition, you're telling Python to expect an object to be passed in when the method is called."
   ]
  },
  {
   "attachments": {},
   "cell_type": "markdown",
   "metadata": {},
   "source": [
    "#### How is constructor implemented?"
   ]
  },
  {
   "attachments": {},
   "cell_type": "markdown",
   "metadata": {},
   "source": [
    "The constructor method is called `__init__()` and is used to set the initial state of the object. Please refer to previous code cell."
   ]
  },
  {
   "attachments": {},
   "cell_type": "markdown",
   "metadata": {},
   "source": [
    "#### How to make attributes private (Encapsulation)?"
   ]
  },
  {
   "attachments": {},
   "cell_type": "markdown",
   "metadata": {},
   "source": [
    "To make an attribute or method private in Python, we simply prefix its name with two underscores. It is a naming convention called *name mangling*."
   ]
  },
  {
   "cell_type": "code",
   "execution_count": 123,
   "metadata": {},
   "outputs": [],
   "source": [
    "class Person:\n",
    "    def __init__(self , age):\n",
    "        self.__age = age"
   ]
  },
  {
   "cell_type": "code",
   "execution_count": 124,
   "metadata": {},
   "outputs": [
    {
     "ename": "AttributeError",
     "evalue": "'Person' object has no attribute '__age'",
     "output_type": "error",
     "traceback": [
      "\u001b[0;31m---------------------------------------------------------------------------\u001b[0m",
      "\u001b[0;31mAttributeError\u001b[0m                            Traceback (most recent call last)",
      "Cell \u001b[0;32mIn[124], line 2\u001b[0m\n\u001b[1;32m      1\u001b[0m p \u001b[39m=\u001b[39m Person(\u001b[39m20\u001b[39m)\n\u001b[0;32m----> 2\u001b[0m \u001b[39mprint\u001b[39m(p\u001b[39m.\u001b[39;49m__age)  \u001b[39m# <- Raises Error\u001b[39;00m\n",
      "\u001b[0;31mAttributeError\u001b[0m: 'Person' object has no attribute '__age'"
     ]
    }
   ],
   "source": [
    "p = Person(20)\n",
    "print(p.__age)  # <- Raises Error"
   ]
  },
  {
   "attachments": {},
   "cell_type": "markdown",
   "metadata": {},
   "source": [
    "#### But you can't fully encapsulate your data!"
   ]
  },
  {
   "attachments": {},
   "cell_type": "markdown",
   "metadata": {},
   "source": [
    "The class variables can be accessed by adding `_classname` to their names. So the *name mangling* is the *closest* to private but it isn't exactly private."
   ]
  },
  {
   "cell_type": "code",
   "execution_count": 125,
   "metadata": {},
   "outputs": [
    {
     "name": "stdout",
     "output_type": "stream",
     "text": [
      "20\n"
     ]
    }
   ],
   "source": [
    "print(p._Person__age)"
   ]
  },
  {
   "attachments": {},
   "cell_type": "markdown",
   "metadata": {},
   "source": [
    "## Inheritance and Polymorphism "
   ]
  },
  {
   "attachments": {},
   "cell_type": "markdown",
   "metadata": {},
   "source": [
    "### Inheritance"
   ]
  },
  {
   "attachments": {},
   "cell_type": "markdown",
   "metadata": {},
   "source": [
    "Inheritance is a powerful feature of object-oriented programming that allows one class to inherit properties and methods from another class.\n",
    "<br>\n",
    "The class that is being inherited from is called the *parent* or *base* class, while the class that is inheriting is called the *child* or *derived* class."
   ]
  },
  {
   "cell_type": "code",
   "execution_count": 126,
   "metadata": {},
   "outputs": [],
   "source": [
    "class BaseClass:\n",
    "    pass\n",
    "\n",
    "class DerivedClass(BaseClass):\n",
    "    # Class definition here\n",
    "    pass"
   ]
  },
  {
   "cell_type": "code",
   "execution_count": 127,
   "metadata": {},
   "outputs": [
    {
     "name": "stdout",
     "output_type": "stream",
     "text": [
      "Woof\n"
     ]
    }
   ],
   "source": [
    "class Animal:\n",
    "    def __init__(self, name, age):\n",
    "        self.name = name\n",
    "        self.age = age\n",
    "    \n",
    "    def speak(self):\n",
    "        pass\n",
    "\n",
    "class Dog(Animal):\n",
    "    def speak(self):\n",
    "        return \"Woof\"\n",
    "\n",
    "\n",
    "my_dog = Dog(\"Buddy\", 3)\n",
    "print(my_dog.speak()) "
   ]
  },
  {
   "attachments": {},
   "cell_type": "markdown",
   "metadata": {},
   "source": [
    "#### super()"
   ]
  },
  {
   "attachments": {},
   "cell_type": "markdown",
   "metadata": {},
   "source": [
    "`super()` is a built-in Python function that returns a temporary object of the *superclass*, allowing you to call its methods.\n",
    "<br>\n",
    "It is often used in method overriding to call the parent class's method."
   ]
  },
  {
   "cell_type": "code",
   "execution_count": 128,
   "metadata": {},
   "outputs": [
    {
     "name": "stdout",
     "output_type": "stream",
     "text": [
      "Fluffy\n",
      "cat\n",
      "Meow!\n"
     ]
    }
   ],
   "source": [
    "class Animal:\n",
    "    def __init__(self, name, species):\n",
    "        self.name = name\n",
    "        self.species = species\n",
    "\n",
    "    def speak(self):\n",
    "        print(\"The animal speaks.\")\n",
    "\n",
    "class Cat(Animal):\n",
    "    def __init__(self, name):\n",
    "        super().__init__(name, \"cat\")\n",
    "\n",
    "    def speak(self):\n",
    "        print(\"Meow!\")\n",
    "\n",
    "\n",
    "my_cat = Cat(\"Fluffy\")\n",
    "print(my_cat.name)  \n",
    "print(my_cat.species)  \n",
    "my_cat.speak()  "
   ]
  },
  {
   "cell_type": "code",
   "execution_count": 129,
   "metadata": {},
   "outputs": [
    {
     "name": "stdout",
     "output_type": "stream",
     "text": [
      "Toyota vehicle starting.\n",
      "Toyota Camry starting.\n"
     ]
    }
   ],
   "source": [
    "class Vehicle:\n",
    "    def __init__(self, brand):\n",
    "        self.brand = brand\n",
    "\n",
    "    def start(self):\n",
    "        print(f\"{self.brand} vehicle starting.\")\n",
    "\n",
    "class Car(Vehicle):\n",
    "    def __init__(self, brand, model):\n",
    "        super().__init__(brand)\n",
    "        self.model = model\n",
    "\n",
    "    def start(self):\n",
    "        super().start()\n",
    "        print(f\"{self.brand} {self.model} starting.\")\n",
    "\n",
    "my_car = Car(\"Toyota\", \"Camry\")\n",
    "my_car.start()"
   ]
  },
  {
   "cell_type": "code",
   "execution_count": 130,
   "metadata": {},
   "outputs": [
    {
     "name": "stdout",
     "output_type": "stream",
     "text": [
      "Engine started.\n",
      "Car engine started.\n",
      "Truck engine started.\n"
     ]
    }
   ],
   "source": [
    "class Vehicle:\n",
    "    def __init__(self, make, model, year):\n",
    "        self.make = make\n",
    "        self.model = model\n",
    "        self.year = year\n",
    "\n",
    "    def start_engine(self):\n",
    "        print(\"Engine started.\")\n",
    "\n",
    "class Car(Vehicle):\n",
    "    def __init__(self, make, model, year, num_doors):\n",
    "        super().__init__(make, model, year)\n",
    "        self.num_doors = num_doors\n",
    "\n",
    "    def start_engine(self):\n",
    "        print(\"Car engine started.\")\n",
    "\n",
    "class Truck(Vehicle):\n",
    "    def __init__(self, make, model, year, payload_capacity):\n",
    "        super().__init__(make, model, year)\n",
    "        self.payload_capacity = payload_capacity\n",
    "\n",
    "    def start_engine(self):\n",
    "        print(\"Truck engine started.\")\n",
    "\n",
    "\n",
    "def start_vehicle(vehicle):\n",
    "    vehicle.start_engine()\n",
    "\n",
    "\n",
    "my_vehicle = Vehicle(\"Honda\", \"Civic\", 2010)\n",
    "my_car = Car(\"Toyota\", \"Camry\", 2015, 4)\n",
    "my_truck = Truck(\"Ford\", \"F-150\", 2020, 2000)\n",
    "\n",
    "start_vehicle(my_vehicle)  \n",
    "start_vehicle(my_car)  \n",
    "start_vehicle(my_truck) "
   ]
  },
  {
   "attachments": {},
   "cell_type": "markdown",
   "metadata": {},
   "source": [
    "### Polymorphism "
   ]
  },
  {
   "attachments": {},
   "cell_type": "markdown",
   "metadata": {},
   "source": [
    "Polymorphism is another key concept in object-oriented programming, which refers to the ability of objects of different classes to be used interchangeably.\n",
    "<br>\n",
    "In Python, we can achieve polymorphism by defining a common interface (i.e., a set of methods) that all classes should implement, even if their implementations differ."
   ]
  },
  {
   "cell_type": "code",
   "execution_count": 131,
   "metadata": {},
   "outputs": [
    {
     "name": "stdout",
     "output_type": "stream",
     "text": [
      "The area of the shape is: 20.00\n",
      "The area of the shape is: 28.26\n"
     ]
    }
   ],
   "source": [
    "class Shape:\n",
    "    def area(self):\n",
    "        pass\n",
    "\n",
    "class Rectangle(Shape):\n",
    "    def __init__(self, length, width):\n",
    "        self.length = length\n",
    "        self.width = width\n",
    "\n",
    "    def area(self):\n",
    "        return self.length * self.width\n",
    "\n",
    "class Circle(Shape):\n",
    "    def __init__(self, radius):\n",
    "        self.radius = radius\n",
    "\n",
    "    def area(self):\n",
    "        return 3.14 * self.radius * self.radius\n",
    "\n",
    "def print_area(shape):\n",
    "    print(f\"The area of the shape is: {shape.area() :.2f}\")\n",
    "\n",
    "my_rectangle = Rectangle(4, 5)\n",
    "my_circle = Circle(3)\n",
    "print_area(my_rectangle) \n",
    "print_area(my_circle)  "
   ]
  },
  {
   "attachments": {},
   "cell_type": "markdown",
   "metadata": {},
   "source": [
    "## Advanced Techniques"
   ]
  },
  {
   "attachments": {},
   "cell_type": "markdown",
   "metadata": {},
   "source": [
    "### Dunder Methods"
   ]
  },
  {
   "attachments": {},
   "cell_type": "markdown",
   "metadata": {},
   "source": [
    "Dunder methods are methods that allow of a class to interact with the built-in functions and operators of Python.\n",
    "<br>\n",
    "The word *dunder* comes from *double underscore*, because the names of dunder methods start and end with two underscores, for example `__str__`."
   ]
  },
  {
   "cell_type": "code",
   "execution_count": 132,
   "metadata": {},
   "outputs": [],
   "source": [
    "class BankAccount:\n",
    "    def __init__(self, account_number, balance):\n",
    "        self.account_number = account_number\n",
    "        self.balance = balance\n",
    "    \n",
    "    def deposit(self, amount):\n",
    "        self.balance += amount\n",
    "    \n",
    "    def withdraw(self, amount):\n",
    "        if amount > self.balance:\n",
    "            raise ValueError(\"Insufficient funds\")\n",
    "        else:\n",
    "            self.balance -= amount\n",
    "    \n",
    "    def transfer(self, amount, recipient):\n",
    "        self.withdraw(amount)\n",
    "        recipient.deposit(amount)\n",
    "    \n",
    "    def get_balance(self):\n",
    "        return self.balance\n",
    "\n",
    "    def get_account_number(self):\n",
    "        return self.account_number\n",
    "    \n",
    "    def set_account_number(self, new_account_number):\n",
    "        self.account_number = new_account_number\n",
    "    \n",
    "    # A Dunder Method\n",
    "    def __str__(self):\n",
    "        return f\"BankAccount {self.account_number} has {self.balance} $\""
   ]
  },
  {
   "cell_type": "code",
   "execution_count": 133,
   "metadata": {},
   "outputs": [
    {
     "name": "stdout",
     "output_type": "stream",
     "text": [
      "BankAccount 123 has 1000 $\n"
     ]
    }
   ],
   "source": [
    "acc = BankAccount(123 , 1000)\n",
    "print(str(acc))"
   ]
  },
  {
   "attachments": {},
   "cell_type": "markdown",
   "metadata": {},
   "source": [
    "### Mixins"
   ]
  },
  {
   "attachments": {},
   "cell_type": "markdown",
   "metadata": {},
   "source": [
    "These are classes that provide a set of methods or attributes that can be *mixed in* to other classes, but they're not *considered* base classes themselves."
   ]
  },
  {
   "cell_type": "code",
   "execution_count": 134,
   "metadata": {},
   "outputs": [
    {
     "name": "stdout",
     "output_type": "stream",
     "text": [
      "{'name': 'John', 'age': 30}\n"
     ]
    }
   ],
   "source": [
    "class DebugMixin:\n",
    "    def debug(self):\n",
    "        print(self.__dict__)\n",
    "\n",
    "class Person(DebugMixin):\n",
    "    def __init__(self, name, age):\n",
    "        self.name = name\n",
    "        self.age = age\n",
    "\n",
    "p = Person(\"John\", 30)\n",
    "p.debug()  "
   ]
  },
  {
   "attachments": {},
   "cell_type": "markdown",
   "metadata": {},
   "source": [
    "### Multiple Inheritance "
   ]
  },
  {
   "attachments": {},
   "cell_type": "markdown",
   "metadata": {},
   "source": [
    "This allows a subclass to inherit from multiple parent classes."
   ]
  },
  {
   "cell_type": "code",
   "execution_count": 135,
   "metadata": {},
   "outputs": [
    {
     "name": "stdout",
     "output_type": "stream",
     "text": [
      "Method A\n",
      "Method B\n"
     ]
    }
   ],
   "source": [
    "class A:\n",
    "    def method_a(self):\n",
    "        print(\"Method A\")\n",
    "\n",
    "class B:\n",
    "    def method_b(self):\n",
    "        print(\"Method B\")\n",
    "\n",
    "class C(A, B):\n",
    "    pass\n",
    "\n",
    "c = C()\n",
    "c.method_a() \n",
    "c.method_b()  "
   ]
  },
  {
   "attachments": {},
   "cell_type": "markdown",
   "metadata": {},
   "source": [
    "### Method Overriding"
   ]
  },
  {
   "attachments": {},
   "cell_type": "markdown",
   "metadata": {},
   "source": [
    "This is the process of defining a method in a subclass with the same name as a method in the superclass effectively replacing the superclass method."
   ]
  },
  {
   "cell_type": "code",
   "execution_count": 136,
   "metadata": {},
   "outputs": [
    {
     "name": "stdout",
     "output_type": "stream",
     "text": [
      "Method B\n"
     ]
    }
   ],
   "source": [
    "class A:\n",
    "    def method(self):\n",
    "        print(\"Method A\")\n",
    "\n",
    "class B(A):\n",
    "    def method(self):\n",
    "        print(\"Method B\")\n",
    "\n",
    "b = B()\n",
    "b.method()"
   ]
  },
  {
   "attachments": {},
   "cell_type": "markdown",
   "metadata": {},
   "source": [
    "### Method Overloading "
   ]
  },
  {
   "attachments": {},
   "cell_type": "markdown",
   "metadata": {},
   "source": [
    "This is the process of defining multiple methods with the same name, but with different signatures (i.e. number or types of parameters).\n",
    "<br>\n",
    "In Python, method overloading is typically achieved using default parameter values or variable-length argument lists."
   ]
  },
  {
   "cell_type": "code",
   "execution_count": 137,
   "metadata": {},
   "outputs": [
    {
     "ename": "TypeError",
     "evalue": "Math.add() missing 1 required positional argument: 'z'",
     "output_type": "error",
     "traceback": [
      "\u001b[0;31m---------------------------------------------------------------------------\u001b[0m",
      "\u001b[0;31mTypeError\u001b[0m                                 Traceback (most recent call last)",
      "Cell \u001b[0;32mIn[137], line 9\u001b[0m\n\u001b[1;32m      6\u001b[0m         \u001b[39mreturn\u001b[39;00m x \u001b[39m+\u001b[39m y \u001b[39m+\u001b[39m z\n\u001b[1;32m      8\u001b[0m m \u001b[39m=\u001b[39m Math()\n\u001b[0;32m----> 9\u001b[0m \u001b[39mprint\u001b[39m(m\u001b[39m.\u001b[39;49madd(\u001b[39m1\u001b[39;49m, \u001b[39m2\u001b[39;49m))  \u001b[39m# <- Raises TypeError\u001b[39;00m\n\u001b[1;32m     10\u001b[0m \u001b[39mprint\u001b[39m(m\u001b[39m.\u001b[39madd(\u001b[39m1\u001b[39m, \u001b[39m2\u001b[39m, \u001b[39m3\u001b[39m))\n",
      "\u001b[0;31mTypeError\u001b[0m: Math.add() missing 1 required positional argument: 'z'"
     ]
    }
   ],
   "source": [
    "class Math:\n",
    "    def add(self, x, y):\n",
    "        return x + y\n",
    "\n",
    "    def add(self, x, y, z):\n",
    "        return x + y + z\n",
    "\n",
    "m = Math()\n",
    "print(m.add(1, 2))  # <- Raises TypeError\n",
    "print(m.add(1, 2, 3))"
   ]
  },
  {
   "cell_type": "code",
   "execution_count": 138,
   "metadata": {},
   "outputs": [
    {
     "name": "stdout",
     "output_type": "stream",
     "text": [
      "5\n",
      "9\n"
     ]
    }
   ],
   "source": [
    "class Calculator:\n",
    "    def add(self, a, b, c=0):\n",
    "        return a + b + c\n",
    "\n",
    "\n",
    "calc = Calculator()\n",
    "result = calc.add(2, 3)\n",
    "print(result) \n",
    "\n",
    "result = calc.add(2, 3, 4)\n",
    "print(result) "
   ]
  },
  {
   "attachments": {},
   "cell_type": "markdown",
   "metadata": {},
   "source": [
    "### Duck Typing"
   ]
  },
  {
   "attachments": {},
   "cell_type": "markdown",
   "metadata": {},
   "source": [
    "Duck typing is a concept in Python that determines the type of an object by its behavior, rather than its class or inheritance hierarchy.\n",
    "<br>\n",
    "It is often summed up by the phrase \"**If it looks like a duck, swims like a duck, and quacks like a duck, then it probably is a duck**\".\n",
    "<br>\n",
    "In Python, we can take advantage of duck typing to write more flexible and dynamic code that can work with a variety of objects that have the same behavior. "
   ]
  },
  {
   "cell_type": "code",
   "execution_count": 139,
   "metadata": {},
   "outputs": [
    {
     "name": "stdout",
     "output_type": "stream",
     "text": [
      "Total Price: 91.98\n"
     ]
    }
   ],
   "source": [
    "def calculate_total_price(items):\n",
    "    total = 0\n",
    "    for item in items:\n",
    "        total += item.price\n",
    "    return total\n",
    "\n",
    "class Product:\n",
    "    def __init__(self, name, price):\n",
    "        self.name = name\n",
    "        self.price = price\n",
    "\n",
    "class Service:\n",
    "    def __init__(self, name, hourly_rate):\n",
    "        self.name = name\n",
    "        self.price = hourly_rate\n",
    "\n",
    "# Create some products and services\n",
    "product1 = Product(\"Widget\", 10.99)\n",
    "product2 = Product(\"Gizmo\", 5.99)\n",
    "service1 = Service(\"Consulting\", 75.00)\n",
    "\n",
    "# Call the calculate_total_price function with a list of products and services\n",
    "items = [product1, product2, service1]\n",
    "total = calculate_total_price(items)\n",
    "print(\"Total Price:\", total)"
   ]
  },
  {
   "attachments": {},
   "cell_type": "markdown",
   "metadata": {},
   "source": [
    "## Some Examples "
   ]
  },
  {
   "attachments": {},
   "cell_type": "markdown",
   "metadata": {},
   "source": [
    "### Example 1: Linked List"
   ]
  },
  {
   "cell_type": "code",
   "execution_count": 140,
   "metadata": {},
   "outputs": [
    {
     "name": "stdout",
     "output_type": "stream",
     "text": [
      "5->4->3->2->1->None\n",
      "5->3->2->1->None\n",
      "False\n",
      "4\n"
     ]
    }
   ],
   "source": [
    "class Node:\n",
    "    def __init__(self, data):\n",
    "        self.data = data\n",
    "        self.next = None\n",
    "        self.prev = None\n",
    "\n",
    "class LinkedList:\n",
    "    def __init__(self, head=None):\n",
    "        self.head = head\n",
    "\n",
    "    def insert_at_tail(self, data):\n",
    "        new_node = Node(data)\n",
    "        if self.head is None:\n",
    "            self.head = new_node\n",
    "        else:\n",
    "            current_node = self.head\n",
    "            while current_node.next is not None:\n",
    "                current_node = current_node.next\n",
    "            current_node.next = new_node\n",
    "            new_node.prev = current_node\n",
    "\n",
    "    def insert_at_head(self,data):\n",
    "        if self.head is None:\n",
    "            self.head = new_node\n",
    "        else:\n",
    "            new_node = Node(data)\n",
    "            new_node.next = self.head\n",
    "            self.head = new_node\n",
    "            new_node.next.prev = new_node\n",
    "\n",
    "    def print(self):\n",
    "        current_node = self.head\n",
    "        while current_node is not None:\n",
    "            print(current_node.data, end=\"->\")\n",
    "            current_node = current_node.next\n",
    "        print(None)\n",
    "\n",
    "    def size(self):\n",
    "        current_node = self.head\n",
    "        count = 0 \n",
    "        while current_node is not None:\n",
    "            count += 1 \n",
    "            current_node = current_node.next\n",
    "        return count\n",
    "\n",
    "    def delete_by_value(self, value):\n",
    "        current_node = self.head\n",
    "        previous_node: Node()\n",
    "        while True:\n",
    "            if current_node.data == value:\n",
    "                previous_node.next = current_node.next \n",
    "                break\n",
    "            else:\n",
    "                previous_node = current_node\n",
    "                current_node = current_node.next\n",
    "\n",
    "    def delete_by_index(self, index):\n",
    "        current_node = self.head \n",
    "        previous_node: Node()\n",
    "        current_index = 0 \n",
    "        while current_index is not index:\n",
    "            previous_node = current_node\n",
    "            current_node = current_node.next\n",
    "            current_index += 1 \n",
    "\n",
    "        previous_node.next = current_node.next\n",
    "\n",
    "    def exists(self, value):\n",
    "        current_node = self.head \n",
    "        while current_node is not None:\n",
    "            if current_node.data is value:\n",
    "                return True\n",
    "            else:\n",
    "                current_node = current_node.next\n",
    "            return False\n",
    "\n",
    "    def reverse(self):\n",
    "        current_node = self.head \n",
    "        while current_node is not None:\n",
    "            self.head = current_node\n",
    "            next_node = current_node.next\n",
    "            current_node.next = current_node.prev\n",
    "            current_node.prev = current_node.next\n",
    "            current_node = next_node\n",
    "\n",
    "\n",
    "\n",
    "if __name__ == \"__main__\":\n",
    "    llist = LinkedList()\n",
    "    llist.insert_at_tail(1)\n",
    "    llist.insert_at_tail(2)\n",
    "    llist.insert_at_tail(3)\n",
    "    llist.insert_at_tail(4)\n",
    "    llist.insert_at_tail(5)\n",
    "    llist.reverse()\n",
    "    llist.print()\n",
    "    llist.delete_by_index(1)\n",
    "    llist.print()\n",
    "    print(llist.exists(10))\n",
    "    print(llist.size())"
   ]
  },
  {
   "attachments": {},
   "cell_type": "markdown",
   "metadata": {},
   "source": [
    "### Example 2: Binary Search Tree (BST)"
   ]
  },
  {
   "cell_type": "code",
   "execution_count": 141,
   "metadata": {},
   "outputs": [
    {
     "name": "stdout",
     "output_type": "stream",
     "text": [
      "Inorder Tree Traversal\n",
      "2\n",
      "3\n",
      "5\n",
      "10\n",
      "10\n",
      "12\n",
      "100\n",
      "\n",
      "Preorder Tree Traversal\n",
      "5\n",
      "2\n",
      "3\n",
      "10\n",
      "12\n",
      "10\n",
      "100\n",
      "\n",
      "Postorder Tree Traversal\n",
      "3\n",
      "2\n",
      "10\n",
      "100\n",
      "12\n",
      "10\n",
      "5\n",
      "\n",
      "Tree Minimum\n",
      "2\n",
      "\n",
      "Tree Maximum\n",
      "100\n",
      "True\n"
     ]
    }
   ],
   "source": [
    "class TreeNode :\n",
    "    def __init__(self, value):\n",
    "        self.right = None \n",
    "        self.left = None \n",
    "        self.value = value \n",
    "    \n",
    "    def insert(self, value):\n",
    "        if value < self.value:\n",
    "            if self.left is None:\n",
    "                self.left = TreeNode(value)\n",
    "            else:\n",
    "                self.left.insert(value)\n",
    "        else:\n",
    "            if self.right is None:\n",
    "                self.right = TreeNode(value)\n",
    "            else:\n",
    "                self.right.insert(value)\n",
    "    \n",
    "    def inorder(self):\n",
    "        if self.left is not None:\n",
    "            self.left.inorder()\n",
    "        print(self.value)\n",
    "        if self.right is not None:\n",
    "            self.right.inorder()\n",
    "    \n",
    "    def preorder(self):\n",
    "        print(self.value)\n",
    "        if self.left is not None:\n",
    "            self.left.preorder()\n",
    "        if self.right is not None:\n",
    "            self.right.preorder()\n",
    "\n",
    "    def postorder(self):\n",
    "        if self.left is not None:\n",
    "            self.left.postorder()\n",
    "        if self.right is not None:\n",
    "            self.right.postorder()\n",
    "        print(self.value)\n",
    "\n",
    "    def find(self, value):\n",
    "        if value < self.value:\n",
    "            if self.left is None:\n",
    "                return False\n",
    "            else:\n",
    "                return self.left.find(value)\n",
    "\n",
    "        elif value > self.value:\n",
    "            if self.right is None:\n",
    "                return False\n",
    "            else:\n",
    "                return self.right.find(value)\n",
    "        else:\n",
    "            return True\n",
    "\n",
    "    def min(self):\n",
    "        while self.left is not None:\n",
    "            self = self.left\n",
    "        print (self.value)\n",
    "\n",
    "    def max(self):\n",
    "        while self.right is not None:\n",
    "            self = self.right\n",
    "        print (self.value)\n",
    "\n",
    "\n",
    "\n",
    "if __name__ == \"__main__\":\n",
    "    tree = TreeNode(5)\n",
    "    tree.insert(10)\n",
    "    tree.insert(12)\n",
    "    tree.insert(100)\n",
    "    tree.insert(2)\n",
    "    tree.insert(10)\n",
    "    tree.insert(3)\n",
    "    print(\"Inorder Tree Traversal\")\n",
    "    tree.inorder()\n",
    "    print(\"\\nPreorder Tree Traversal\")\n",
    "    tree.preorder()\n",
    "    print(\"\\nPostorder Tree Traversal\")\n",
    "    tree.postorder()\n",
    "    print(\"\\nTree Minimum\")\n",
    "    tree.min()\n",
    "    print(\"\\nTree Maximum\")\n",
    "    tree.max()\n",
    "    print(tree.find(10))"
   ]
  },
  {
   "attachments": {},
   "cell_type": "markdown",
   "metadata": {},
   "source": [
    "---"
   ]
  },
  {
   "attachments": {},
   "cell_type": "markdown",
   "metadata": {},
   "source": [
    "# Chapter 3: Python Rises"
   ]
  },
  {
   "attachments": {},
   "cell_type": "markdown",
   "metadata": {},
   "source": [
    "## NumPy"
   ]
  },
  {
   "attachments": {},
   "cell_type": "markdown",
   "metadata": {},
   "source": [
    "- *NumPy*, which stands for *Numerical Python*, is a library consisting of multidimensional array objects and a collection of routines for processing those arrays. \n",
    "- Using *NumPy*, mathematical and logical operations on arrays can be performed.\n",
    "\n",
    "- You can install *NumPy* package by running `pip3 install numpy` in a terminal.\n",
    "\n",
    "- It can be imported in this manner: `import numpy as np`."
   ]
  },
  {
   "attachments": {},
   "cell_type": "markdown",
   "metadata": {},
   "source": [
    "### NumPy Array\n",
    "\n",
    "- An N-dimensional array\n",
    "- Collection of items *of the same type*\n",
    "- Zero-based indexing"
   ]
  },
  {
   "attachments": {},
   "cell_type": "markdown",
   "metadata": {},
   "source": [
    "### Creating NumPy Arrays"
   ]
  },
  {
   "cell_type": "code",
   "execution_count": 142,
   "metadata": {},
   "outputs": [],
   "source": [
    "import numpy as np\n",
    "\n",
    "# Different Methods of Creating NumPy Arrays\n",
    "\n",
    "a = np.array([1, 2, 3, 4], dtype=\"int\")\n",
    "b = np.arange(1, 10)\n",
    "c = np.zeros((3, 4), dtype=\"bool\")\n",
    "d = np.linspace(0, 2, 10)"
   ]
  },
  {
   "cell_type": "code",
   "execution_count": 143,
   "metadata": {},
   "outputs": [
    {
     "name": "stdout",
     "output_type": "stream",
     "text": [
      "[1 2 3 4]\n",
      "\n",
      "[1 2 3 4 5 6 7 8 9]\n",
      "\n",
      "[[False False False False]\n",
      " [False False False False]\n",
      " [False False False False]]\n",
      "\n",
      "[0.         0.22222222 0.44444444 0.66666667 0.88888889 1.11111111\n",
      " 1.33333333 1.55555556 1.77777778 2.        ]\n",
      "\n"
     ]
    }
   ],
   "source": [
    "for x in [a, b, c, d]:\n",
    "    print(x)\n",
    "    print()"
   ]
  },
  {
   "cell_type": "code",
   "execution_count": 144,
   "metadata": {},
   "outputs": [
    {
     "name": "stdout",
     "output_type": "stream",
     "text": [
      "(3, 4)\n",
      "4\n",
      "12\n"
     ]
    }
   ],
   "source": [
    "print(c.shape)\n",
    "print(c.shape[1])\n",
    "print(c.size)"
   ]
  },
  {
   "attachments": {},
   "cell_type": "markdown",
   "metadata": {},
   "source": [
    "### Broadcasting"
   ]
  },
  {
   "cell_type": "code",
   "execution_count": 145,
   "metadata": {},
   "outputs": [
    {
     "name": "stdout",
     "output_type": "stream",
     "text": [
      "x = [1 2 3 4]\n",
      "y = [6 7 8 9]\n",
      "z = [2 4 6 8]\n",
      "w = [4 3 2 1]\n",
      "x * y = [ 6 14 24 36]\n"
     ]
    }
   ],
   "source": [
    "x = np.arange(1, 5)\n",
    "print(f\"x = {x}\")\n",
    "\n",
    "y = x + 5\n",
    "print(f\"y = {y}\")\n",
    "\n",
    "z = x * 2\n",
    "print(f\"z = {z}\")\n",
    "\n",
    "w = y - z\n",
    "print(f\"w = {w}\")\n",
    "\n",
    "print(f\"x * y = {x*y}\")"
   ]
  },
  {
   "cell_type": "code",
   "execution_count": 146,
   "metadata": {},
   "outputs": [
    {
     "name": "stdout",
     "output_type": "stream",
     "text": [
      "[[ 0  1  2  3]\n",
      " [ 4  5  6  7]\n",
      " [ 8  9 10 11]]\n",
      "\n",
      "[[1]\n",
      " [0]\n",
      " [1]]\n",
      "\n",
      "[[ 0  1  2  3]\n",
      " [ 0  0  0  0]\n",
      " [ 8  9 10 11]]\n"
     ]
    }
   ],
   "source": [
    "x = np.arange(12).reshape((3, 4))\n",
    "y = np.array([[1, 0, 1]]).T\n",
    "\n",
    "print(x, end=\"\\n\\n\")\n",
    "print(y, end=\"\\n\\n\")\n",
    "print(x * y)"
   ]
  },
  {
   "cell_type": "code",
   "execution_count": 147,
   "metadata": {},
   "outputs": [
    {
     "name": "stdout",
     "output_type": "stream",
     "text": [
      "[[0 1 2]]\n",
      "\n",
      "[[0]\n",
      " [1]\n",
      " [2]]\n",
      "\n",
      "[[0 1 2]\n",
      " [1 2 3]\n",
      " [2 3 4]]\n"
     ]
    }
   ],
   "source": [
    "x = np.array([[0, 1, 2]])\n",
    "y = x.T\n",
    "\n",
    "print(x, end=\"\\n\\n\")\n",
    "print(y, end=\"\\n\\n\")\n",
    "print(x + y)"
   ]
  },
  {
   "attachments": {},
   "cell_type": "markdown",
   "metadata": {},
   "source": [
    "### Selecting (Indexing on Arrays)"
   ]
  },
  {
   "cell_type": "code",
   "execution_count": 148,
   "metadata": {},
   "outputs": [
    {
     "name": "stdout",
     "output_type": "stream",
     "text": [
      "a = [0.  0.5 1.  1.5 2.  2.5 3.  3.5 4.  4.5 5. ]\n",
      "\n",
      "1.5\n",
      "[2.  2.5]\n",
      "[4.5 5. ]\n",
      "[0.  0.5 1. ]\n"
     ]
    }
   ],
   "source": [
    "a = np.linspace(0, 5, 11)\n",
    "print(f\"a = {a}\")\n",
    "print()\n",
    "print(a[3])\n",
    "print(a[4:6])\n",
    "print(a[-2:])\n",
    "print(a[:3])"
   ]
  },
  {
   "attachments": {},
   "cell_type": "markdown",
   "metadata": {},
   "source": [
    "### Some Basic NumPy Operations"
   ]
  },
  {
   "cell_type": "code",
   "execution_count": 149,
   "metadata": {},
   "outputs": [
    {
     "name": "stdout",
     "output_type": "stream",
     "text": [
      "60\n",
      "10\n",
      "8\n",
      "0\n",
      "3\n",
      "5.0\n",
      "1.118033988749895\n"
     ]
    }
   ],
   "source": [
    "a = np.array([1, 2, 3, 4])\n",
    "b = np.array([2, 4, 6, 8])\n",
    "\n",
    "print(a.dot(b))\n",
    "print(a.sum())\n",
    "print(b.max())\n",
    "print(a.argmin())\n",
    "print(a.argmax())\n",
    "print(b.mean())\n",
    "print(a.std())"
   ]
  },
  {
   "attachments": {},
   "cell_type": "markdown",
   "metadata": {},
   "source": [
    "**Note**: Numpy is huge, these were just the basics!"
   ]
  },
  {
   "attachments": {},
   "cell_type": "markdown",
   "metadata": {},
   "source": [
    "## Pandas"
   ]
  },
  {
   "attachments": {},
   "cell_type": "markdown",
   "metadata": {},
   "source": [
    "- *Pandas* is an open-source Python library providing high-performance data manipulation and analysis tool using its powerful data structures.\n",
    "\n",
    "- The name *Pandas* is derived from the word *Panel Data* – an Econometrics from Multidimensional data.\n",
    "\n",
    "- Installation can be performed using this command: `pip3 install pandas`.\n",
    "\n",
    "- It can be imported in this manner: `import pandas as pd`."
   ]
  },
  {
   "cell_type": "code",
   "execution_count": 150,
   "metadata": {},
   "outputs": [
    {
     "data": {
      "text/html": [
       "<div>\n",
       "<style scoped>\n",
       "    .dataframe tbody tr th:only-of-type {\n",
       "        vertical-align: middle;\n",
       "    }\n",
       "\n",
       "    .dataframe tbody tr th {\n",
       "        vertical-align: top;\n",
       "    }\n",
       "\n",
       "    .dataframe thead th {\n",
       "        text-align: right;\n",
       "    }\n",
       "</style>\n",
       "<table border=\"1\" class=\"dataframe\">\n",
       "  <thead>\n",
       "    <tr style=\"text-align: right;\">\n",
       "      <th></th>\n",
       "      <th>name</th>\n",
       "      <th>weight</th>\n",
       "      <th>height</th>\n",
       "    </tr>\n",
       "  </thead>\n",
       "  <tbody>\n",
       "    <tr>\n",
       "      <th>0</th>\n",
       "      <td>taghi</td>\n",
       "      <td>100</td>\n",
       "      <td>1.95</td>\n",
       "    </tr>\n",
       "    <tr>\n",
       "      <th>1</th>\n",
       "      <td>ali</td>\n",
       "      <td>67</td>\n",
       "      <td>1.80</td>\n",
       "    </tr>\n",
       "    <tr>\n",
       "      <th>2</th>\n",
       "      <td>nasrin</td>\n",
       "      <td>85</td>\n",
       "      <td>1.65</td>\n",
       "    </tr>\n",
       "  </tbody>\n",
       "</table>\n",
       "</div>"
      ],
      "text/plain": [
       "     name  weight  height\n",
       "0   taghi     100    1.95\n",
       "1     ali      67    1.80\n",
       "2  nasrin      85    1.65"
      ]
     },
     "execution_count": 150,
     "metadata": {},
     "output_type": "execute_result"
    }
   ],
   "source": [
    "import pandas as pd\n",
    "\n",
    "df = pd.DataFrame(\n",
    "    {\n",
    "        \"name\": [\"taghi\", \"ali\", \"nasrin\"],\n",
    "        \"weight\": [100, 67, 85],\n",
    "        \"height\": [1.95, 1.80, 1.65]\n",
    "    }\n",
    ")\n",
    "\n",
    "df.head()  # <- Notice the index values"
   ]
  },
  {
   "cell_type": "code",
   "execution_count": 151,
   "metadata": {},
   "outputs": [],
   "source": [
    "df = df.set_index(\"name\")"
   ]
  },
  {
   "cell_type": "code",
   "execution_count": 152,
   "metadata": {},
   "outputs": [
    {
     "data": {
      "text/html": [
       "<div>\n",
       "<style scoped>\n",
       "    .dataframe tbody tr th:only-of-type {\n",
       "        vertical-align: middle;\n",
       "    }\n",
       "\n",
       "    .dataframe tbody tr th {\n",
       "        vertical-align: top;\n",
       "    }\n",
       "\n",
       "    .dataframe thead th {\n",
       "        text-align: right;\n",
       "    }\n",
       "</style>\n",
       "<table border=\"1\" class=\"dataframe\">\n",
       "  <thead>\n",
       "    <tr style=\"text-align: right;\">\n",
       "      <th></th>\n",
       "      <th>weight</th>\n",
       "      <th>height</th>\n",
       "    </tr>\n",
       "    <tr>\n",
       "      <th>name</th>\n",
       "      <th></th>\n",
       "      <th></th>\n",
       "    </tr>\n",
       "  </thead>\n",
       "  <tbody>\n",
       "    <tr>\n",
       "      <th>taghi</th>\n",
       "      <td>100</td>\n",
       "      <td>1.95</td>\n",
       "    </tr>\n",
       "    <tr>\n",
       "      <th>ali</th>\n",
       "      <td>67</td>\n",
       "      <td>1.80</td>\n",
       "    </tr>\n",
       "    <tr>\n",
       "      <th>nasrin</th>\n",
       "      <td>85</td>\n",
       "      <td>1.65</td>\n",
       "    </tr>\n",
       "  </tbody>\n",
       "</table>\n",
       "</div>"
      ],
      "text/plain": [
       "        weight  height\n",
       "name                  \n",
       "taghi      100    1.95\n",
       "ali         67    1.80\n",
       "nasrin      85    1.65"
      ]
     },
     "execution_count": 152,
     "metadata": {},
     "output_type": "execute_result"
    }
   ],
   "source": [
    "df"
   ]
  },
  {
   "attachments": {},
   "cell_type": "markdown",
   "metadata": {},
   "source": [
    "### Accessing Values within the DataFrame"
   ]
  },
  {
   "attachments": {},
   "cell_type": "markdown",
   "metadata": {},
   "source": [
    "`.loc` and `.iloc` are two functions in Pandas that are used to slice a data set in a Pandas DataFrame.\n",
    "<br>\n",
    "The function `.loc` is typically used for label indexing and can access multiple columns, while `.iloc` is used for integer indexing."
   ]
  },
  {
   "cell_type": "code",
   "execution_count": 153,
   "metadata": {},
   "outputs": [
    {
     "data": {
      "text/plain": [
       "weight    67.0\n",
       "height     1.8\n",
       "Name: ali, dtype: float64"
      ]
     },
     "execution_count": 153,
     "metadata": {},
     "output_type": "execute_result"
    }
   ],
   "source": [
    "df.loc[\"ali\"]"
   ]
  },
  {
   "cell_type": "code",
   "execution_count": 154,
   "metadata": {},
   "outputs": [
    {
     "data": {
      "text/plain": [
       "name\n",
       "ali       1.80\n",
       "nasrin    1.65\n",
       "Name: height, dtype: float64"
      ]
     },
     "execution_count": 154,
     "metadata": {},
     "output_type": "execute_result"
    }
   ],
   "source": [
    "df.loc[[\"ali\", \"nasrin\"] , \"height\"]"
   ]
  },
  {
   "cell_type": "code",
   "execution_count": 155,
   "metadata": {},
   "outputs": [
    {
     "data": {
      "text/html": [
       "<div>\n",
       "<style scoped>\n",
       "    .dataframe tbody tr th:only-of-type {\n",
       "        vertical-align: middle;\n",
       "    }\n",
       "\n",
       "    .dataframe tbody tr th {\n",
       "        vertical-align: top;\n",
       "    }\n",
       "\n",
       "    .dataframe thead th {\n",
       "        text-align: right;\n",
       "    }\n",
       "</style>\n",
       "<table border=\"1\" class=\"dataframe\">\n",
       "  <thead>\n",
       "    <tr style=\"text-align: right;\">\n",
       "      <th></th>\n",
       "      <th>weight</th>\n",
       "      <th>height</th>\n",
       "    </tr>\n",
       "    <tr>\n",
       "      <th>name</th>\n",
       "      <th></th>\n",
       "      <th></th>\n",
       "    </tr>\n",
       "  </thead>\n",
       "  <tbody>\n",
       "    <tr>\n",
       "      <th>taghi</th>\n",
       "      <td>100</td>\n",
       "      <td>1.95</td>\n",
       "    </tr>\n",
       "    <tr>\n",
       "      <th>ali</th>\n",
       "      <td>67</td>\n",
       "      <td>1.80</td>\n",
       "    </tr>\n",
       "  </tbody>\n",
       "</table>\n",
       "</div>"
      ],
      "text/plain": [
       "       weight  height\n",
       "name                 \n",
       "taghi     100    1.95\n",
       "ali        67    1.80"
      ]
     },
     "execution_count": 155,
     "metadata": {},
     "output_type": "execute_result"
    }
   ],
   "source": [
    "df.iloc[:2]"
   ]
  },
  {
   "cell_type": "code",
   "execution_count": 156,
   "metadata": {},
   "outputs": [
    {
     "data": {
      "text/html": [
       "<div>\n",
       "<style scoped>\n",
       "    .dataframe tbody tr th:only-of-type {\n",
       "        vertical-align: middle;\n",
       "    }\n",
       "\n",
       "    .dataframe tbody tr th {\n",
       "        vertical-align: top;\n",
       "    }\n",
       "\n",
       "    .dataframe thead th {\n",
       "        text-align: right;\n",
       "    }\n",
       "</style>\n",
       "<table border=\"1\" class=\"dataframe\">\n",
       "  <thead>\n",
       "    <tr style=\"text-align: right;\">\n",
       "      <th></th>\n",
       "      <th>weight</th>\n",
       "      <th>height</th>\n",
       "    </tr>\n",
       "    <tr>\n",
       "      <th>name</th>\n",
       "      <th></th>\n",
       "      <th></th>\n",
       "    </tr>\n",
       "  </thead>\n",
       "  <tbody>\n",
       "    <tr>\n",
       "      <th>ali</th>\n",
       "      <td>67</td>\n",
       "      <td>1.80</td>\n",
       "    </tr>\n",
       "    <tr>\n",
       "      <th>nasrin</th>\n",
       "      <td>85</td>\n",
       "      <td>1.65</td>\n",
       "    </tr>\n",
       "  </tbody>\n",
       "</table>\n",
       "</div>"
      ],
      "text/plain": [
       "        weight  height\n",
       "name                  \n",
       "ali         67    1.80\n",
       "nasrin      85    1.65"
      ]
     },
     "execution_count": 156,
     "metadata": {},
     "output_type": "execute_result"
    }
   ],
   "source": [
    "df.loc[df.weight <= 90]"
   ]
  },
  {
   "cell_type": "code",
   "execution_count": 157,
   "metadata": {},
   "outputs": [
    {
     "data": {
      "text/html": [
       "<div>\n",
       "<style scoped>\n",
       "    .dataframe tbody tr th:only-of-type {\n",
       "        vertical-align: middle;\n",
       "    }\n",
       "\n",
       "    .dataframe tbody tr th {\n",
       "        vertical-align: top;\n",
       "    }\n",
       "\n",
       "    .dataframe thead th {\n",
       "        text-align: right;\n",
       "    }\n",
       "</style>\n",
       "<table border=\"1\" class=\"dataframe\">\n",
       "  <thead>\n",
       "    <tr style=\"text-align: right;\">\n",
       "      <th></th>\n",
       "      <th>weight</th>\n",
       "      <th>height</th>\n",
       "    </tr>\n",
       "    <tr>\n",
       "      <th>name</th>\n",
       "      <th></th>\n",
       "      <th></th>\n",
       "    </tr>\n",
       "  </thead>\n",
       "  <tbody>\n",
       "    <tr>\n",
       "      <th>ali</th>\n",
       "      <td>67</td>\n",
       "      <td>1.8</td>\n",
       "    </tr>\n",
       "  </tbody>\n",
       "</table>\n",
       "</div>"
      ],
      "text/plain": [
       "      weight  height\n",
       "name                \n",
       "ali       67     1.8"
      ]
     },
     "execution_count": 157,
     "metadata": {},
     "output_type": "execute_result"
    }
   ],
   "source": [
    "df.loc[(df.weight <= 90) & (df.height >= 1.75)]"
   ]
  },
  {
   "attachments": {},
   "cell_type": "markdown",
   "metadata": {},
   "source": [
    "### Operations on DataFrames"
   ]
  },
  {
   "attachments": {},
   "cell_type": "markdown",
   "metadata": {},
   "source": [
    "#### Adding a New Column"
   ]
  },
  {
   "cell_type": "code",
   "execution_count": 158,
   "metadata": {},
   "outputs": [
    {
     "data": {
      "text/html": [
       "<div>\n",
       "<style scoped>\n",
       "    .dataframe tbody tr th:only-of-type {\n",
       "        vertical-align: middle;\n",
       "    }\n",
       "\n",
       "    .dataframe tbody tr th {\n",
       "        vertical-align: top;\n",
       "    }\n",
       "\n",
       "    .dataframe thead th {\n",
       "        text-align: right;\n",
       "    }\n",
       "</style>\n",
       "<table border=\"1\" class=\"dataframe\">\n",
       "  <thead>\n",
       "    <tr style=\"text-align: right;\">\n",
       "      <th></th>\n",
       "      <th>weight</th>\n",
       "      <th>height</th>\n",
       "      <th>bmi</th>\n",
       "    </tr>\n",
       "    <tr>\n",
       "      <th>name</th>\n",
       "      <th></th>\n",
       "      <th></th>\n",
       "      <th></th>\n",
       "    </tr>\n",
       "  </thead>\n",
       "  <tbody>\n",
       "    <tr>\n",
       "      <th>taghi</th>\n",
       "      <td>100</td>\n",
       "      <td>1.95</td>\n",
       "      <td>26.298488</td>\n",
       "    </tr>\n",
       "    <tr>\n",
       "      <th>ali</th>\n",
       "      <td>67</td>\n",
       "      <td>1.80</td>\n",
       "      <td>20.679012</td>\n",
       "    </tr>\n",
       "    <tr>\n",
       "      <th>nasrin</th>\n",
       "      <td>85</td>\n",
       "      <td>1.65</td>\n",
       "      <td>31.221304</td>\n",
       "    </tr>\n",
       "  </tbody>\n",
       "</table>\n",
       "</div>"
      ],
      "text/plain": [
       "        weight  height        bmi\n",
       "name                             \n",
       "taghi      100    1.95  26.298488\n",
       "ali         67    1.80  20.679012\n",
       "nasrin      85    1.65  31.221304"
      ]
     },
     "execution_count": 158,
     "metadata": {},
     "output_type": "execute_result"
    }
   ],
   "source": [
    "df[\"bmi\"] = df[\"weight\"] / df[\"height\"]**2\n",
    "df.head()"
   ]
  },
  {
   "cell_type": "code",
   "execution_count": 159,
   "metadata": {},
   "outputs": [
    {
     "data": {
      "text/html": [
       "<div>\n",
       "<style scoped>\n",
       "    .dataframe tbody tr th:only-of-type {\n",
       "        vertical-align: middle;\n",
       "    }\n",
       "\n",
       "    .dataframe tbody tr th {\n",
       "        vertical-align: top;\n",
       "    }\n",
       "\n",
       "    .dataframe thead th {\n",
       "        text-align: right;\n",
       "    }\n",
       "</style>\n",
       "<table border=\"1\" class=\"dataframe\">\n",
       "  <thead>\n",
       "    <tr style=\"text-align: right;\">\n",
       "      <th></th>\n",
       "      <th>weight</th>\n",
       "      <th>height</th>\n",
       "      <th>bmi</th>\n",
       "      <th>healty_bmi</th>\n",
       "    </tr>\n",
       "    <tr>\n",
       "      <th>name</th>\n",
       "      <th></th>\n",
       "      <th></th>\n",
       "      <th></th>\n",
       "      <th></th>\n",
       "    </tr>\n",
       "  </thead>\n",
       "  <tbody>\n",
       "    <tr>\n",
       "      <th>taghi</th>\n",
       "      <td>100</td>\n",
       "      <td>1.95</td>\n",
       "      <td>26.298488</td>\n",
       "      <td>False</td>\n",
       "    </tr>\n",
       "    <tr>\n",
       "      <th>ali</th>\n",
       "      <td>67</td>\n",
       "      <td>1.80</td>\n",
       "      <td>20.679012</td>\n",
       "      <td>True</td>\n",
       "    </tr>\n",
       "    <tr>\n",
       "      <th>nasrin</th>\n",
       "      <td>85</td>\n",
       "      <td>1.65</td>\n",
       "      <td>31.221304</td>\n",
       "      <td>False</td>\n",
       "    </tr>\n",
       "  </tbody>\n",
       "</table>\n",
       "</div>"
      ],
      "text/plain": [
       "        weight  height        bmi  healty_bmi\n",
       "name                                         \n",
       "taghi      100    1.95  26.298488       False\n",
       "ali         67    1.80  20.679012        True\n",
       "nasrin      85    1.65  31.221304       False"
      ]
     },
     "execution_count": 159,
     "metadata": {},
     "output_type": "execute_result"
    }
   ],
   "source": [
    "df[\"healty_bmi\"] = (df[\"bmi\"] <= 25) & (df[\"bmi\"] >= 19)\n",
    "df.head()"
   ]
  },
  {
   "attachments": {},
   "cell_type": "markdown",
   "metadata": {},
   "source": [
    "### Reading from Files"
   ]
  },
  {
   "cell_type": "code",
   "execution_count": 160,
   "metadata": {},
   "outputs": [
    {
     "data": {
      "text/html": [
       "<div>\n",
       "<style scoped>\n",
       "    .dataframe tbody tr th:only-of-type {\n",
       "        vertical-align: middle;\n",
       "    }\n",
       "\n",
       "    .dataframe tbody tr th {\n",
       "        vertical-align: top;\n",
       "    }\n",
       "\n",
       "    .dataframe thead th {\n",
       "        text-align: right;\n",
       "    }\n",
       "</style>\n",
       "<table border=\"1\" class=\"dataframe\">\n",
       "  <thead>\n",
       "    <tr style=\"text-align: right;\">\n",
       "      <th></th>\n",
       "      <th>age</th>\n",
       "      <th>workclass</th>\n",
       "      <th>fnlwgt</th>\n",
       "      <th>education</th>\n",
       "      <th>educational-num</th>\n",
       "      <th>marital-status</th>\n",
       "      <th>occupation</th>\n",
       "      <th>relationship</th>\n",
       "      <th>race</th>\n",
       "      <th>gender</th>\n",
       "      <th>capital-gain</th>\n",
       "      <th>capital-loss</th>\n",
       "      <th>hours-per-week</th>\n",
       "      <th>native-country</th>\n",
       "      <th>income</th>\n",
       "    </tr>\n",
       "  </thead>\n",
       "  <tbody>\n",
       "    <tr>\n",
       "      <th>0</th>\n",
       "      <td>25</td>\n",
       "      <td>Private</td>\n",
       "      <td>226802</td>\n",
       "      <td>11th</td>\n",
       "      <td>7</td>\n",
       "      <td>Never-married</td>\n",
       "      <td>Machine-op-inspct</td>\n",
       "      <td>Own-child</td>\n",
       "      <td>Black</td>\n",
       "      <td>Male</td>\n",
       "      <td>0</td>\n",
       "      <td>0</td>\n",
       "      <td>40</td>\n",
       "      <td>United-States</td>\n",
       "      <td>&lt;=50K</td>\n",
       "    </tr>\n",
       "    <tr>\n",
       "      <th>1</th>\n",
       "      <td>38</td>\n",
       "      <td>Private</td>\n",
       "      <td>89814</td>\n",
       "      <td>HS-grad</td>\n",
       "      <td>9</td>\n",
       "      <td>Married-civ-spouse</td>\n",
       "      <td>Farming-fishing</td>\n",
       "      <td>Husband</td>\n",
       "      <td>White</td>\n",
       "      <td>Male</td>\n",
       "      <td>0</td>\n",
       "      <td>0</td>\n",
       "      <td>50</td>\n",
       "      <td>United-States</td>\n",
       "      <td>&lt;=50K</td>\n",
       "    </tr>\n",
       "    <tr>\n",
       "      <th>2</th>\n",
       "      <td>28</td>\n",
       "      <td>Local-gov</td>\n",
       "      <td>336951</td>\n",
       "      <td>Assoc-acdm</td>\n",
       "      <td>12</td>\n",
       "      <td>Married-civ-spouse</td>\n",
       "      <td>Protective-serv</td>\n",
       "      <td>Husband</td>\n",
       "      <td>White</td>\n",
       "      <td>Male</td>\n",
       "      <td>0</td>\n",
       "      <td>0</td>\n",
       "      <td>40</td>\n",
       "      <td>United-States</td>\n",
       "      <td>&gt;50K</td>\n",
       "    </tr>\n",
       "    <tr>\n",
       "      <th>3</th>\n",
       "      <td>44</td>\n",
       "      <td>Private</td>\n",
       "      <td>160323</td>\n",
       "      <td>Some-college</td>\n",
       "      <td>10</td>\n",
       "      <td>Married-civ-spouse</td>\n",
       "      <td>Machine-op-inspct</td>\n",
       "      <td>Husband</td>\n",
       "      <td>Black</td>\n",
       "      <td>Male</td>\n",
       "      <td>7688</td>\n",
       "      <td>0</td>\n",
       "      <td>40</td>\n",
       "      <td>United-States</td>\n",
       "      <td>&gt;50K</td>\n",
       "    </tr>\n",
       "    <tr>\n",
       "      <th>4</th>\n",
       "      <td>18</td>\n",
       "      <td>?</td>\n",
       "      <td>103497</td>\n",
       "      <td>Some-college</td>\n",
       "      <td>10</td>\n",
       "      <td>Never-married</td>\n",
       "      <td>?</td>\n",
       "      <td>Own-child</td>\n",
       "      <td>White</td>\n",
       "      <td>Female</td>\n",
       "      <td>0</td>\n",
       "      <td>0</td>\n",
       "      <td>30</td>\n",
       "      <td>United-States</td>\n",
       "      <td>&lt;=50K</td>\n",
       "    </tr>\n",
       "    <tr>\n",
       "      <th>...</th>\n",
       "      <td>...</td>\n",
       "      <td>...</td>\n",
       "      <td>...</td>\n",
       "      <td>...</td>\n",
       "      <td>...</td>\n",
       "      <td>...</td>\n",
       "      <td>...</td>\n",
       "      <td>...</td>\n",
       "      <td>...</td>\n",
       "      <td>...</td>\n",
       "      <td>...</td>\n",
       "      <td>...</td>\n",
       "      <td>...</td>\n",
       "      <td>...</td>\n",
       "      <td>...</td>\n",
       "    </tr>\n",
       "    <tr>\n",
       "      <th>48837</th>\n",
       "      <td>27</td>\n",
       "      <td>Private</td>\n",
       "      <td>257302</td>\n",
       "      <td>Assoc-acdm</td>\n",
       "      <td>12</td>\n",
       "      <td>Married-civ-spouse</td>\n",
       "      <td>Tech-support</td>\n",
       "      <td>Wife</td>\n",
       "      <td>White</td>\n",
       "      <td>Female</td>\n",
       "      <td>0</td>\n",
       "      <td>0</td>\n",
       "      <td>38</td>\n",
       "      <td>United-States</td>\n",
       "      <td>&lt;=50K</td>\n",
       "    </tr>\n",
       "    <tr>\n",
       "      <th>48838</th>\n",
       "      <td>40</td>\n",
       "      <td>Private</td>\n",
       "      <td>154374</td>\n",
       "      <td>HS-grad</td>\n",
       "      <td>9</td>\n",
       "      <td>Married-civ-spouse</td>\n",
       "      <td>Machine-op-inspct</td>\n",
       "      <td>Husband</td>\n",
       "      <td>White</td>\n",
       "      <td>Male</td>\n",
       "      <td>0</td>\n",
       "      <td>0</td>\n",
       "      <td>40</td>\n",
       "      <td>United-States</td>\n",
       "      <td>&gt;50K</td>\n",
       "    </tr>\n",
       "    <tr>\n",
       "      <th>48839</th>\n",
       "      <td>58</td>\n",
       "      <td>Private</td>\n",
       "      <td>151910</td>\n",
       "      <td>HS-grad</td>\n",
       "      <td>9</td>\n",
       "      <td>Widowed</td>\n",
       "      <td>Adm-clerical</td>\n",
       "      <td>Unmarried</td>\n",
       "      <td>White</td>\n",
       "      <td>Female</td>\n",
       "      <td>0</td>\n",
       "      <td>0</td>\n",
       "      <td>40</td>\n",
       "      <td>United-States</td>\n",
       "      <td>&lt;=50K</td>\n",
       "    </tr>\n",
       "    <tr>\n",
       "      <th>48840</th>\n",
       "      <td>22</td>\n",
       "      <td>Private</td>\n",
       "      <td>201490</td>\n",
       "      <td>HS-grad</td>\n",
       "      <td>9</td>\n",
       "      <td>Never-married</td>\n",
       "      <td>Adm-clerical</td>\n",
       "      <td>Own-child</td>\n",
       "      <td>White</td>\n",
       "      <td>Male</td>\n",
       "      <td>0</td>\n",
       "      <td>0</td>\n",
       "      <td>20</td>\n",
       "      <td>United-States</td>\n",
       "      <td>&lt;=50K</td>\n",
       "    </tr>\n",
       "    <tr>\n",
       "      <th>48841</th>\n",
       "      <td>52</td>\n",
       "      <td>Self-emp-inc</td>\n",
       "      <td>287927</td>\n",
       "      <td>HS-grad</td>\n",
       "      <td>9</td>\n",
       "      <td>Married-civ-spouse</td>\n",
       "      <td>Exec-managerial</td>\n",
       "      <td>Wife</td>\n",
       "      <td>White</td>\n",
       "      <td>Female</td>\n",
       "      <td>15024</td>\n",
       "      <td>0</td>\n",
       "      <td>40</td>\n",
       "      <td>United-States</td>\n",
       "      <td>&gt;50K</td>\n",
       "    </tr>\n",
       "  </tbody>\n",
       "</table>\n",
       "<p>48842 rows × 15 columns</p>\n",
       "</div>"
      ],
      "text/plain": [
       "       age     workclass  fnlwgt     education  educational-num  \\\n",
       "0       25       Private  226802          11th                7   \n",
       "1       38       Private   89814       HS-grad                9   \n",
       "2       28     Local-gov  336951    Assoc-acdm               12   \n",
       "3       44       Private  160323  Some-college               10   \n",
       "4       18             ?  103497  Some-college               10   \n",
       "...    ...           ...     ...           ...              ...   \n",
       "48837   27       Private  257302    Assoc-acdm               12   \n",
       "48838   40       Private  154374       HS-grad                9   \n",
       "48839   58       Private  151910       HS-grad                9   \n",
       "48840   22       Private  201490       HS-grad                9   \n",
       "48841   52  Self-emp-inc  287927       HS-grad                9   \n",
       "\n",
       "           marital-status         occupation relationship   race  gender  \\\n",
       "0           Never-married  Machine-op-inspct    Own-child  Black    Male   \n",
       "1      Married-civ-spouse    Farming-fishing      Husband  White    Male   \n",
       "2      Married-civ-spouse    Protective-serv      Husband  White    Male   \n",
       "3      Married-civ-spouse  Machine-op-inspct      Husband  Black    Male   \n",
       "4           Never-married                  ?    Own-child  White  Female   \n",
       "...                   ...                ...          ...    ...     ...   \n",
       "48837  Married-civ-spouse       Tech-support         Wife  White  Female   \n",
       "48838  Married-civ-spouse  Machine-op-inspct      Husband  White    Male   \n",
       "48839             Widowed       Adm-clerical    Unmarried  White  Female   \n",
       "48840       Never-married       Adm-clerical    Own-child  White    Male   \n",
       "48841  Married-civ-spouse    Exec-managerial         Wife  White  Female   \n",
       "\n",
       "       capital-gain  capital-loss  hours-per-week native-country income  \n",
       "0                 0             0              40  United-States  <=50K  \n",
       "1                 0             0              50  United-States  <=50K  \n",
       "2                 0             0              40  United-States   >50K  \n",
       "3              7688             0              40  United-States   >50K  \n",
       "4                 0             0              30  United-States  <=50K  \n",
       "...             ...           ...             ...            ...    ...  \n",
       "48837             0             0              38  United-States  <=50K  \n",
       "48838             0             0              40  United-States   >50K  \n",
       "48839             0             0              40  United-States  <=50K  \n",
       "48840             0             0              20  United-States  <=50K  \n",
       "48841         15024             0              40  United-States   >50K  \n",
       "\n",
       "[48842 rows x 15 columns]"
      ]
     },
     "execution_count": 160,
     "metadata": {},
     "output_type": "execute_result"
    }
   ],
   "source": [
    "df = pd.read_csv(\"datasets/adult.csv\")\n",
    "df"
   ]
  },
  {
   "attachments": {},
   "cell_type": "markdown",
   "metadata": {},
   "source": [
    "### Basic Statistics"
   ]
  },
  {
   "cell_type": "code",
   "execution_count": 161,
   "metadata": {},
   "outputs": [
    {
     "data": {
      "text/plain": [
       "age                    38.643585\n",
       "fnlwgt             189664.134597\n",
       "educational-num        10.078089\n",
       "capital-gain         1079.067626\n",
       "capital-loss           87.502314\n",
       "hours-per-week         40.422382\n",
       "dtype: float64"
      ]
     },
     "execution_count": 161,
     "metadata": {},
     "output_type": "execute_result"
    }
   ],
   "source": [
    "df.mean(numeric_only=True)"
   ]
  },
  {
   "cell_type": "code",
   "execution_count": 162,
   "metadata": {},
   "outputs": [
    {
     "data": {
      "text/plain": [
       "age                    31.406117\n",
       "fnlwgt             194153.626042\n",
       "educational-num        10.122719\n",
       "capital-gain          765.496997\n",
       "capital-loss           77.531693\n",
       "hours-per-week         40.393113\n",
       "dtype: float64"
      ]
     },
     "execution_count": 162,
     "metadata": {},
     "output_type": "execute_result"
    }
   ],
   "source": [
    "df.loc[(df.age <= 45)].mean(numeric_only=True)"
   ]
  },
  {
   "cell_type": "code",
   "execution_count": 163,
   "metadata": {},
   "outputs": [
    {
     "data": {
      "text/plain": [
       "race\n",
       "White                 41762\n",
       "Black                  4685\n",
       "Asian-Pac-Islander     1519\n",
       "Amer-Indian-Eskimo      470\n",
       "Other                   406\n",
       "Name: count, dtype: int64"
      ]
     },
     "execution_count": 163,
     "metadata": {},
     "output_type": "execute_result"
    }
   ],
   "source": [
    "df[\"race\"].value_counts()"
   ]
  },
  {
   "attachments": {},
   "cell_type": "markdown",
   "metadata": {},
   "source": [
    "## Matplotlib"
   ]
  },
  {
   "attachments": {},
   "cell_type": "markdown",
   "metadata": {},
   "source": [
    "- *Matplotlib* is one of the most popular Python packages used for data visualization. It is a cross-platform library for making plots from data in arrays.\n",
    "\n",
    "- It can be installed using this command: `pip3 install matplotlib`.\n",
    "\n",
    "- It can be imported in this manner: `import matplotlib.pyplot as plt`."
   ]
  },
  {
   "cell_type": "code",
   "execution_count": 164,
   "metadata": {},
   "outputs": [
    {
     "data": {
      "image/png": "[encoded data removed]",
      "text/plain": [
       "<Figure size 640x480 with 1 Axes>"
      ]
     },
     "metadata": {},
     "output_type": "display_data"
    }
   ],
   "source": [
    "import matplotlib.pyplot as plt\n",
    "\n",
    "x = [1, 2, 3, 4,5,6]\n",
    "y = [1, 4, 9, 16,25,36]\n",
    "\n",
    "plt.plot(x, y)\n",
    "plt.xlabel(\"x\")\n",
    "plt.ylabel(\"x^2\")\n",
    "plt.title(\"A Quadratic Curve\")\n",
    "plt.show()"
   ]
  },
  {
   "attachments": {},
   "cell_type": "markdown",
   "metadata": {},
   "source": [
    "### Multi-Line Plot"
   ]
  },
  {
   "cell_type": "code",
   "execution_count": 165,
   "metadata": {},
   "outputs": [
    {
     "data": {
      "image/png": "[encoded data removed]",
      "text/plain": [
       "<Figure size 1000x600 with 1 Axes>"
      ]
     },
     "metadata": {},
     "output_type": "display_data"
    }
   ],
   "source": [
    "plt.figure(figsize=(10, 6))\n",
    "x = np.linspace(0, 10, 100)\n",
    "y = np.sin(x)\n",
    "z = np.cos(x)\n",
    "plt.plot(x, y, linewidth=2, c=\"red\", linestyle=\"--\")\n",
    "plt.plot(x, z, linewidth=2, c=\"blue\", linestyle=\"-\")\n",
    "plt.legend([\"sin\", \"cos\"])\n",
    "plt.show()"
   ]
  },
  {
   "attachments": {},
   "cell_type": "markdown",
   "metadata": {},
   "source": [
    "### Bar Plot"
   ]
  },
  {
   "attachments": {},
   "cell_type": "markdown",
   "metadata": {},
   "source": [
    "#### Using Pandas"
   ]
  },
  {
   "cell_type": "code",
   "execution_count": 166,
   "metadata": {},
   "outputs": [
    {
     "data": {
      "image/png": "[encoded data removed]",
      "text/plain": [
       "<Figure size 900x500 with 1 Axes>"
      ]
     },
     "metadata": {},
     "output_type": "display_data"
    }
   ],
   "source": [
    "df = pd.read_csv(\"datasets/adult.csv\")\n",
    "counts = df[\"race\"].value_counts()\n",
    "plt.figure(figsize=(9, 5))\n",
    "plt.bar(counts.index, counts.values)\n",
    "plt.xticks(rotation=90)\n",
    "plt.show()"
   ]
  },
  {
   "attachments": {},
   "cell_type": "markdown",
   "metadata": {},
   "source": [
    "#### Without Pandas"
   ]
  },
  {
   "cell_type": "code",
   "execution_count": 167,
   "metadata": {},
   "outputs": [
    {
     "data": {
      "image/png": "[encoded data removed]",
      "text/plain": [
       "<Figure size 800x500 with 1 Axes>"
      ]
     },
     "metadata": {},
     "output_type": "display_data"
    }
   ],
   "source": [
    "x = [\"A\", \"B\", \"C\", \"D\"]\n",
    "y = [3, 6, 1, 4]\n",
    "\n",
    "plt.figure(figsize=(8, 5))\n",
    "plt.bar(x, y)\n",
    "plt.xlabel(\"Category\")\n",
    "plt.ylabel(\"Value\")\n",
    "plt.title(\"Bar Plot\")\n",
    "plt.show()"
   ]
  },
  {
   "attachments": {},
   "cell_type": "markdown",
   "metadata": {},
   "source": [
    "### Scatter Plot"
   ]
  },
  {
   "cell_type": "code",
   "execution_count": 168,
   "metadata": {},
   "outputs": [
    {
     "data": {
      "image/png": "[encoded data removed]",
      "text/plain": [
       "<Figure size 600x400 with 1 Axes>"
      ]
     },
     "metadata": {},
     "output_type": "display_data"
    }
   ],
   "source": [
    "x = np.random.normal(size=100)\n",
    "y = np.random.normal(size=100)\n",
    "\n",
    "plt.figure(figsize=(6, 4))\n",
    "plt.scatter(x, y)\n",
    "plt.show()"
   ]
  },
  {
   "cell_type": "code",
   "execution_count": 169,
   "metadata": {},
   "outputs": [
    {
     "data": {
      "image/png": "[encoded data removed]",
      "text/plain": [
       "<Figure size 1000x600 with 2 Axes>"
      ]
     },
     "metadata": {},
     "output_type": "display_data"
    }
   ],
   "source": [
    "fig, axes = plt.subplots(nrows=2, figsize=(10, 6), constrained_layout=True)\n",
    "\n",
    "x = np.random.normal(0, 1, size=100)\n",
    "y = x + np.random.normal(-2, 0.5, size=100)\n",
    "z = np.random.normal(3, 0.8, size=100) - x\n",
    "\n",
    "plt.sca(axes[0])\n",
    "plt.scatter(x, y, s=40, c=\"blue\")\n",
    "plt.xlabel(\"x\")\n",
    "plt.ylabel(\"y\")\n",
    "plt.title(\"Positive Correlation\")\n",
    "\n",
    "plt.sca(axes[1])\n",
    "plt.scatter(x, z, s=40, c=x<0)\n",
    "plt.xlabel(\"x\")\n",
    "plt.ylabel(\"z\")\n",
    "plt.title(\"Negative Correlation\")\n",
    "\n",
    "plt.show()"
   ]
  },
  {
   "attachments": {},
   "cell_type": "markdown",
   "metadata": {},
   "source": [
    "### Box Plot "
   ]
  },
  {
   "cell_type": "code",
   "execution_count": 10,
   "metadata": {},
   "outputs": [
    {
     "data": {
      "image/png": "[encoded data removed]",
      "text/plain": [
       "<Figure size 720x432 with 1 Axes>"
      ]
     },
     "metadata": {
      "needs_background": "light"
     },
     "output_type": "display_data"
    }
   ],
   "source": [
    "import matplotlib.pyplot as plt\n",
    "import numpy as np\n",
    "\n",
    "# Generate some random data\n",
    "np.random.seed(0)\n",
    "data_1 = np.random.normal(100, 10, 200)\n",
    "data_2 = np.random.normal(90, 20, 200)\n",
    "data_3 = np.random.normal(80, 30, 200)\n",
    "data_4 = np.random.normal(70, 40, 200)\n",
    "\n",
    "data = [data_1, data_2, data_3, data_4]\n",
    "\n",
    "# Create a figure and axis with a larger size\n",
    "fig, ax = plt.subplots(figsize=(10, 6))\n",
    "\n",
    "# Create a box plot\n",
    "ax.boxplot(data)\n",
    "\n",
    "# Customize the plot\n",
    "ax.set_xticklabels(['Data 1', 'Data 2', 'Data 3', 'Data 4'])\n",
    "ax.set_xlabel('Datasets')\n",
    "ax.set_ylabel('Values')\n",
    "ax.set_title('Box Plot')\n",
    "\n",
    "# Show the plot\n",
    "plt.show()\n"
   ]
  },
  {
   "attachments": {},
   "cell_type": "markdown",
   "metadata": {},
   "source": [
    "### Heat Map"
   ]
  },
  {
   "cell_type": "code",
   "execution_count": 14,
   "metadata": {},
   "outputs": [
    {
     "data": {
      "image/png": "[encoded data removed]",
      "text/plain": [
       "<Figure size 432x288 with 2 Axes>"
      ]
     },
     "metadata": {
      "needs_background": "light"
     },
     "output_type": "display_data"
    }
   ],
   "source": [
    "# Generate some random data for the heat map\n",
    "np.random.seed(0)\n",
    "data = np.random.rand(10, 10)\n",
    "\n",
    "# Create a figure and axis \n",
    "fig, ax = plt.subplots()\n",
    "\n",
    "# Create the heat map\n",
    "heatmap = ax.imshow(data, cmap='hot')\n",
    "\n",
    "\n",
    "ax.set_title('Heat Map')\n",
    "plt.colorbar(heatmap)\n",
    "\n",
    "# Show the plot\n",
    "plt.show()\n"
   ]
  },
  {
   "attachments": {},
   "cell_type": "markdown",
   "metadata": {},
   "source": [
    "---"
   ]
  },
  {
   "attachments": {},
   "cell_type": "markdown",
   "metadata": {},
   "source": [
    "## Requests"
   ]
  },
  {
   "cell_type": "markdown",
   "metadata": {},
   "source": [
    "- *requests* is a popular Python library for making HTTP requests. It abstracts the complexities of making requests behind a simple API, allowing you to send HTTP/1.1 requests. With requests, you can add content like headers, form data, and parameters to your HTTP requests. It also allows you to access the response data, handling cookies, and much more.\n",
    "\n",
    "- Installation can be performed using this command: `pip3 install requests`.\n",
    "\n",
    "- It can be imported in this manner: `import requests as req`.\n",
    "\n",
    "- It can be used for both requesting to [apis](https://en.wikipedia.org/wiki/API) to get *JSON* or any web link to get the *HTML* content.\n",
    "- You can also use ANY HTTP method (get , post , put , delete) using this pakage."
   ]
  },
  {
   "cell_type": "code",
   "execution_count": 2,
   "metadata": {
    "scrolled": true
   },
   "outputs": [
    {
     "name": "stdout",
     "output_type": "stream",
     "text": [
      "Status Code: 200\n",
      "Response:\n",
      "b'\\n<!DOCTYPE html>\\n\\n<html lang=\"en\">\\n  <head>\\n    <meta charset=\"utf-8\" />\\n    <meta name=\"viewport\" content=\"width=device-width, initial-scale=1.0\" /><meta name=\"generator\" content=\"Docutils 0.17.1: http://docutils.sourceforge.net/\" />\\n\\n    <title>Requests: HTTP for Humans\\xe2\\x84\\xa2 &#8212; Requests 2.31.0 documentation</title>\\n    <link rel=\"stylesheet\" type=\"text/css\" href=\"_static/pygments.css\" />\\n    <link rel=\"stylesheet\" type=\"text/css\" href=\"_static/alabaster.css\" />\\n    <link rel=\"stylesheet\" type=\"text/css\" href=\"/_/static/css/badge_only.css\" />\\n    <script data-url_root=\"#\" id=\"documentation_options\" src=\"_static/documentation_options.js\"></script>\\n    <script src=\"_static/jquery.js\"></script>\\n    <script src=\"_static/underscore.js\"></script>\\n    <script src=\"_static/doctools.js\"></script>\\n    <script async=\"async\" src=\"/_/static/javascript/readthedocs-doc-embed.js\"></script>\\n    <link rel=\"index\" title=\"Index\" href=\"genindex/\" />\\n    <link rel=\"search\" title=\"Search\" href=\"search/\" />\\n    <link rel=\"next\" title=\"Installation of Requests\" href=\"user/install/\" />\\n   \\n  <link rel=\"stylesheet\" href=\"_static/custom.css\" type=\"text/css\" />\\n  \\n  \\n  <meta name=\"viewport\" content=\"width=device-width, initial-scale=0.9, maximum-scale=0.9\" />\\n\\n  \\n<!-- RTD Extra Head -->\\n\\n<link rel=\"stylesheet\" href=\"/_/static/css/readthedocs-doc-embed.css\" type=\"text/css\" />\\n\\n<script type=\"application/json\" id=\"READTHEDOCS_DATA\">{\"ad_free\": false, \"api_host\": \"https://readthedocs.org\", \"builder\": \"sphinx\", \"canonical_url\": null, \"docroot\": \"/docs/\", \"features\": {\"docsearch_disabled\": false}, \"global_analytics_code\": \"UA-17997319-1\", \"language\": \"en\", \"page\": \"index\", \"programming_language\": \"py\", \"project\": \"requests\", \"proxied_api_host\": \"/_\", \"source_suffix\": \".rst\", \"subprojects\": {\"requests-docs-cn\": \"https://requests.readthedocs.io/projects/cn/zh_CN/latest/\", \"requests-docs-de\": \"https://requests.readthedocs.io/projects/de/de/latest/\", \"requests-docs-es\": \"https://requests.readthedocs.io/projects/es/es/latest/\", \"requests-docs-it\": \"https://requests.readthedocs.io/projects/it/it/latest/\", \"requests-docs-pl\": \"https://requests.readthedocs.io/projects/pl/pl/latest/\", \"requests-docs-pt\": \"https://requests.readthedocs.io/projects/pt/pt_BR/latest/\", \"requests-html\": \"https://requests.readthedocs.io/projects/requests-html/en/latest/\"}, \"theme\": \"alabaster\", \"user_analytics_code\": \"\", \"version\": \"latest\"}</script>\\n\\n<!--\\nUsing this variable directly instead of using `JSON.parse` is deprecated.\\nThe READTHEDOCS_DATA global variable will be removed in the future.\\n-->\\n<script type=\"text/javascript\">\\nREADTHEDOCS_DATA = JSON.parse(document.getElementById(\\'READTHEDOCS_DATA\\').innerHTML);\\n</script>\\n\\n<script type=\"text/javascript\" src=\"/_/static/javascript/readthedocs-analytics.js\" async=\"async\"></script>\\n\\n<!-- end RTD <extrahead> -->\\n</head><body>\\n  \\n\\n    <div class=\"document\">\\n      <div class=\"documentwrapper\">\\n        <div class=\"bodywrapper\">\\n          \\n\\n          <div class=\"body\" role=\"main\">\\n            \\n  <section id=\"requests-http-for-humans\">\\n<h1>Requests: HTTP for Humans\\xe2\\x84\\xa2<a class=\"headerlink\" href=\"#requests-http-for-humans\" title=\"Permalink to this headline\">\\xc2\\xb6</a></h1>\\n<p>Release v2.31.0. (<a class=\"reference internal\" href=\"user/install/#install\"><span class=\"std std-ref\">Installation</span></a>)</p>\\n<a class=\"reference external image-reference\" href=\"https://pepy.tech/project/requests\"><img alt=\"Requests Downloads Per Month Badge\" src=\"https://static.pepy.tech/badge/requests/month\" /></a>\\n<a class=\"reference external image-reference\" href=\"https://pypi.org/project/requests/\"><img alt=\"License Badge\" src=\"https://img.shields.io/pypi/l/requests.svg\" /></a>\\n<a class=\"reference external image-reference\" href=\"https://pypi.org/project/requests/\"><img alt=\"Wheel Support Badge\" src=\"https://img.shields.io/pypi/wheel/requests.svg\" /></a>\\n<a class=\"reference external image-reference\" href=\"https://pypi.org/project/requests/\"><img alt=\"Python Version Support Badge\" src=\"https://img.shields.io/pypi/pyversions/requests.svg\" /></a>\\n<p><strong>Requests</strong> is an elegant and simple HTTP library for Python, built for human beings.</p>\\n<hr class=\"docutils\" />\\n<p><strong>Behold, the power of Requests</strong>:</p>\\n<div class=\"highlight-default notranslate\"><div class=\"highlight\"><pre><span></span><span class=\"gp\">&gt;&gt;&gt; </span><span class=\"n\">r</span> <span class=\"o\">=</span> <span class=\"n\">requests</span><span class=\"o\">.</span><span class=\"n\">get</span><span class=\"p\">(</span><span class=\"s1\">&#39;https://api.github.com/user&#39;</span><span class=\"p\">,</span> <span class=\"n\">auth</span><span class=\"o\">=</span><span class=\"p\">(</span><span class=\"s1\">&#39;user&#39;</span><span class=\"p\">,</span> <span class=\"s1\">&#39;pass&#39;</span><span class=\"p\">))</span>\\n<span class=\"gp\">&gt;&gt;&gt; </span><span class=\"n\">r</span><span class=\"o\">.</span><span class=\"n\">status_code</span>\\n<span class=\"go\">200</span>\\n<span class=\"gp\">&gt;&gt;&gt; </span><span class=\"n\">r</span><span class=\"o\">.</span><span class=\"n\">headers</span><span class=\"p\">[</span><span class=\"s1\">&#39;content-type&#39;</span><span class=\"p\">]</span>\\n<span class=\"go\">&#39;application/json; charset=utf8&#39;</span>\\n<span class=\"gp\">&gt;&gt;&gt; </span><span class=\"n\">r</span><span class=\"o\">.</span><span class=\"n\">encoding</span>\\n<span class=\"go\">&#39;utf-8&#39;</span>\\n<span class=\"gp\">&gt;&gt;&gt; </span><span class=\"n\">r</span><span class=\"o\">.</span><span class=\"n\">text</span>\\n<span class=\"go\">&#39;{&quot;type&quot;:&quot;User&quot;...&#39;</span>\\n<span class=\"gp\">&gt;&gt;&gt; </span><span class=\"n\">r</span><span class=\"o\">.</span><span class=\"n\">json</span><span class=\"p\">()</span>\\n<span class=\"go\">{&#39;private_gists&#39;: 419, &#39;total_private_repos&#39;: 77, ...}</span>\\n</pre></div>\\n</div>\\n<p>See <a class=\"reference external\" href=\"https://gist.github.com/973705\">similar code, sans Requests</a>.</p>\\n<p><strong>Requests</strong> allows you to send HTTP/1.1 requests extremely easily.\\nThere\\xe2\\x80\\x99s no need to manually add query strings to your\\nURLs, or to form-encode your POST data. Keep-alive and HTTP connection pooling\\nare 100% automatic, thanks to <a class=\"reference external\" href=\"https://github.com/urllib3/urllib3\">urllib3</a>.</p>\\n<section id=\"beloved-features\">\\n<h2>Beloved Features<a class=\"headerlink\" href=\"#beloved-features\" title=\"Permalink to this headline\">\\xc2\\xb6</a></h2>\\n<p>Requests is ready for today\\xe2\\x80\\x99s web.</p>\\n<ul class=\"simple\">\\n<li><p>Keep-Alive &amp; Connection Pooling</p></li>\\n<li><p>International Domains and URLs</p></li>\\n<li><p>Sessions with Cookie Persistence</p></li>\\n<li><p>Browser-style SSL Verification</p></li>\\n<li><p>Automatic Content Decoding</p></li>\\n<li><p>Basic/Digest Authentication</p></li>\\n<li><p>Elegant Key/Value Cookies</p></li>\\n<li><p>Automatic Decompression</p></li>\\n<li><p>Unicode Response Bodies</p></li>\\n<li><p>HTTP(S) Proxy Support</p></li>\\n<li><p>Multipart File Uploads</p></li>\\n<li><p>Streaming Downloads</p></li>\\n<li><p>Connection Timeouts</p></li>\\n<li><p>Chunked Requests</p></li>\\n<li><p><code class=\"docutils literal notranslate\"><span class=\"pre\">.netrc</span></code> Support</p></li>\\n</ul>\\n<p>Requests officially supports Python 3.7+, and runs great on PyPy.</p>\\n</section>\\n<section id=\"the-user-guide\">\\n<h2>The User Guide<a class=\"headerlink\" href=\"#the-user-guide\" title=\"Permalink to this headline\">\\xc2\\xb6</a></h2>\\n<p>This part of the documentation, which is mostly prose, begins with some\\nbackground information about Requests, then focuses on step-by-step\\ninstructions for getting the most out of Requests.</p>\\n<div class=\"toctree-wrapper compound\">\\n<ul>\\n<li class=\"toctree-l1\"><a class=\"reference internal\" href=\"user/install/\">Installation of Requests</a><ul>\\n<li class=\"toctree-l2\"><a class=\"reference internal\" href=\"user/install/#python-m-pip-install-requests\">$ python -m pip install requests</a></li>\\n<li class=\"toctree-l2\"><a class=\"reference internal\" href=\"user/install/#get-the-source-code\">Get the Source Code</a></li>\\n</ul>\\n</li>\\n<li class=\"toctree-l1\"><a class=\"reference internal\" href=\"user/quickstart/\">Quickstart</a><ul>\\n<li class=\"toctree-l2\"><a class=\"reference internal\" href=\"user/quickstart/#make-a-request\">Make a Request</a></li>\\n<li class=\"toctree-l2\"><a class=\"reference internal\" href=\"user/quickstart/#passing-parameters-in-urls\">Passing Parameters In URLs</a></li>\\n<li class=\"toctree-l2\"><a class=\"reference internal\" href=\"user/quickstart/#response-content\">Response Content</a></li>\\n<li class=\"toctree-l2\"><a class=\"reference internal\" href=\"user/quickstart/#binary-response-content\">Binary Response Content</a></li>\\n<li class=\"toctree-l2\"><a class=\"reference internal\" href=\"user/quickstart/#json-response-content\">JSON Response Content</a></li>\\n<li class=\"toctree-l2\"><a class=\"reference internal\" href=\"user/quickstart/#raw-response-content\">Raw Response Content</a></li>\\n<li class=\"toctree-l2\"><a class=\"reference internal\" href=\"user/quickstart/#custom-headers\">Custom Headers</a></li>\\n<li class=\"toctree-l2\"><a class=\"reference internal\" href=\"user/quickstart/#more-complicated-post-requests\">More complicated POST requests</a></li>\\n<li class=\"toctree-l2\"><a class=\"reference internal\" href=\"user/quickstart/#post-a-multipart-encoded-file\">POST a Multipart-Encoded File</a></li>\\n<li class=\"toctree-l2\"><a class=\"reference internal\" href=\"user/quickstart/#response-status-codes\">Response Status Codes</a></li>\\n<li class=\"toctree-l2\"><a class=\"reference internal\" href=\"user/quickstart/#response-headers\">Response Headers</a></li>\\n<li class=\"toctree-l2\"><a class=\"reference internal\" href=\"user/quickstart/#cookies\">Cookies</a></li>\\n<li class=\"toctree-l2\"><a class=\"reference internal\" href=\"user/quickstart/#redirection-and-history\">Redirection and History</a></li>\\n<li class=\"toctree-l2\"><a class=\"reference internal\" href=\"user/quickstart/#timeouts\">Timeouts</a></li>\\n<li class=\"toctree-l2\"><a class=\"reference internal\" href=\"user/quickstart/#errors-and-exceptions\">Errors and Exceptions</a></li>\\n</ul>\\n</li>\\n<li class=\"toctree-l1\"><a class=\"reference internal\" href=\"user/advanced/\">Advanced Usage</a><ul>\\n<li class=\"toctree-l2\"><a class=\"reference internal\" href=\"user/advanced/#session-objects\">Session Objects</a></li>\\n<li class=\"toctree-l2\"><a class=\"reference internal\" href=\"user/advanced/#request-and-response-objects\">Request and Response Objects</a></li>\\n<li class=\"toctree-l2\"><a class=\"reference internal\" href=\"user/advanced/#prepared-requests\">Prepared Requests</a></li>\\n<li class=\"toctree-l2\"><a class=\"reference internal\" href=\"user/advanced/#ssl-cert-verification\">SSL Cert Verification</a></li>\\n<li class=\"toctree-l2\"><a class=\"reference internal\" href=\"user/advanced/#client-side-certificates\">Client Side Certificates</a></li>\\n<li class=\"toctree-l2\"><a class=\"reference internal\" href=\"user/advanced/#ca-certificates\">CA Certificates</a></li>\\n<li class=\"toctree-l2\"><a class=\"reference internal\" href=\"user/advanced/#body-content-workflow\">Body Content Workflow</a></li>\\n<li class=\"toctree-l2\"><a class=\"reference internal\" href=\"user/advanced/#keep-alive\">Keep-Alive</a></li>\\n<li class=\"toctree-l2\"><a class=\"reference internal\" href=\"user/advanced/#streaming-uploads\">Streaming Uploads</a></li>\\n<li class=\"toctree-l2\"><a class=\"reference internal\" href=\"user/advanced/#chunk-encoded-requests\">Chunk-Encoded Requests</a></li>\\n<li class=\"toctree-l2\"><a class=\"reference internal\" href=\"user/advanced/#post-multiple-multipart-encoded-files\">POST Multiple Multipart-Encoded Files</a></li>\\n<li class=\"toctree-l2\"><a class=\"reference internal\" href=\"user/advanced/#event-hooks\">Event Hooks</a></li>\\n<li class=\"toctree-l2\"><a class=\"reference internal\" href=\"user/advanced/#custom-authentication\">Custom Authentication</a></li>\\n<li class=\"toctree-l2\"><a class=\"reference internal\" href=\"user/advanced/#streaming-requests\">Streaming Requests</a></li>\\n<li class=\"toctree-l2\"><a class=\"reference internal\" href=\"user/advanced/#proxies\">Proxies</a></li>\\n<li class=\"toctree-l2\"><a class=\"reference internal\" href=\"user/advanced/#compliance\">Compliance</a></li>\\n<li class=\"toctree-l2\"><a class=\"reference internal\" href=\"user/advanced/#http-verbs\">HTTP Verbs</a></li>\\n<li class=\"toctree-l2\"><a class=\"reference internal\" href=\"user/advanced/#custom-verbs\">Custom Verbs</a></li>\\n<li class=\"toctree-l2\"><a class=\"reference internal\" href=\"user/advanced/#link-headers\">Link Headers</a></li>\\n<li class=\"toctree-l2\"><a class=\"reference internal\" href=\"user/advanced/#transport-adapters\">Transport Adapters</a></li>\\n<li class=\"toctree-l2\"><a class=\"reference internal\" href=\"user/advanced/#blocking-or-non-blocking\">Blocking Or Non-Blocking?</a></li>\\n<li class=\"toctree-l2\"><a class=\"reference internal\" href=\"user/advanced/#header-ordering\">Header Ordering</a></li>\\n<li class=\"toctree-l2\"><a class=\"reference internal\" href=\"user/advanced/#timeouts\">Timeouts</a></li>\\n</ul>\\n</li>\\n<li class=\"toctree-l1\"><a class=\"reference internal\" href=\"user/authentication/\">Authentication</a><ul>\\n<li class=\"toctree-l2\"><a class=\"reference internal\" href=\"user/authentication/#basic-authentication\">Basic Authentication</a></li>\\n<li class=\"toctree-l2\"><a class=\"reference internal\" href=\"user/authentication/#digest-authentication\">Digest Authentication</a></li>\\n<li class=\"toctree-l2\"><a class=\"reference internal\" href=\"user/authentication/#oauth-1-authentication\">OAuth 1 Authentication</a></li>\\n<li class=\"toctree-l2\"><a class=\"reference internal\" href=\"user/authentication/#oauth-2-and-openid-connect-authentication\">OAuth 2 and OpenID Connect Authentication</a></li>\\n<li class=\"toctree-l2\"><a class=\"reference internal\" href=\"user/authentication/#other-authentication\">Other Authentication</a></li>\\n<li class=\"toctree-l2\"><a class=\"reference internal\" href=\"user/authentication/#new-forms-of-authentication\">New Forms of Authentication</a></li>\\n</ul>\\n</li>\\n</ul>\\n</div>\\n</section>\\n<section id=\"the-community-guide\">\\n<h2>The Community Guide<a class=\"headerlink\" href=\"#the-community-guide\" title=\"Permalink to this headline\">\\xc2\\xb6</a></h2>\\n<p>This part of the documentation, which is mostly prose, details the\\nRequests ecosystem and community.</p>\\n<div class=\"toctree-wrapper compound\">\\n<ul>\\n<li class=\"toctree-l1\"><a class=\"reference internal\" href=\"community/recommended/\">Recommended Packages and Extensions</a><ul>\\n<li class=\"toctree-l2\"><a class=\"reference internal\" href=\"community/recommended/#certifi-ca-bundle\">Certifi CA Bundle</a></li>\\n<li class=\"toctree-l2\"><a class=\"reference internal\" href=\"community/recommended/#cachecontrol\">CacheControl</a></li>\\n<li class=\"toctree-l2\"><a class=\"reference internal\" href=\"community/recommended/#requests-toolbelt\">Requests-Toolbelt</a></li>\\n<li class=\"toctree-l2\"><a class=\"reference internal\" href=\"community/recommended/#requests-threads\">Requests-Threads</a></li>\\n<li class=\"toctree-l2\"><a class=\"reference internal\" href=\"community/recommended/#requests-oauthlib\">Requests-OAuthlib</a></li>\\n<li class=\"toctree-l2\"><a class=\"reference internal\" href=\"community/recommended/#betamax\">Betamax</a></li>\\n</ul>\\n</li>\\n<li class=\"toctree-l1\"><a class=\"reference internal\" href=\"community/faq/\">Frequently Asked Questions</a><ul>\\n<li class=\"toctree-l2\"><a class=\"reference internal\" href=\"community/faq/#encoded-data\">Encoded Data?</a></li>\\n<li class=\"toctree-l2\"><a class=\"reference internal\" href=\"community/faq/#custom-user-agents\">Custom User-Agents?</a></li>\\n<li class=\"toctree-l2\"><a class=\"reference internal\" href=\"community/faq/#why-not-httplib2\">Why not Httplib2?</a></li>\\n<li class=\"toctree-l2\"><a class=\"reference internal\" href=\"community/faq/#python-3-support\">Python 3 Support?</a></li>\\n<li class=\"toctree-l2\"><a class=\"reference internal\" href=\"community/faq/#python-2-support\">Python 2 Support?</a></li>\\n<li class=\"toctree-l2\"><a class=\"reference internal\" href=\"community/faq/#what-are-hostname-doesn-t-match-errors\">What are \\xe2\\x80\\x9chostname doesn\\xe2\\x80\\x99t match\\xe2\\x80\\x9d errors?</a></li>\\n</ul>\\n</li>\\n<li class=\"toctree-l1\"><a class=\"reference internal\" href=\"community/out-there/\">Integrations</a><ul>\\n<li class=\"toctree-l2\"><a class=\"reference internal\" href=\"community/out-there/#python-for-ios\">Python for iOS</a></li>\\n</ul>\\n</li>\\n<li class=\"toctree-l1\"><a class=\"reference internal\" href=\"community/out-there/#articles-talks\">Articles &amp; Talks</a></li>\\n<li class=\"toctree-l1\"><a class=\"reference internal\" href=\"community/support/\">Support</a><ul>\\n<li class=\"toctree-l2\"><a class=\"reference internal\" href=\"community/support/#stack-overflow\">Stack Overflow</a></li>\\n<li class=\"toctree-l2\"><a class=\"reference internal\" href=\"community/support/#file-an-issue\">File an Issue</a></li>\\n<li class=\"toctree-l2\"><a class=\"reference internal\" href=\"community/support/#send-a-tweet\">Send a Tweet</a></li>\\n</ul>\\n</li>\\n<li class=\"toctree-l1\"><a class=\"reference internal\" href=\"community/vulnerabilities/\">Vulnerability Disclosure</a><ul>\\n<li class=\"toctree-l2\"><a class=\"reference internal\" href=\"community/vulnerabilities/#process\">Process</a></li>\\n<li class=\"toctree-l2\"><a class=\"reference internal\" href=\"community/vulnerabilities/#previous-cves\">Previous CVEs</a></li>\\n</ul>\\n</li>\\n<li class=\"toctree-l1\"><a class=\"reference internal\" href=\"community/release-process/\">Release Process and Rules</a><ul>\\n<li class=\"toctree-l2\"><a class=\"reference internal\" href=\"community/release-process/#major-releases\">Major Releases</a></li>\\n<li class=\"toctree-l2\"><a class=\"reference internal\" href=\"community/release-process/#minor-releases\">Minor Releases</a></li>\\n<li class=\"toctree-l2\"><a class=\"reference internal\" href=\"community/release-process/#hotfix-releases\">Hotfix Releases</a></li>\\n<li class=\"toctree-l2\"><a class=\"reference internal\" href=\"community/release-process/#reasoning\">Reasoning</a></li>\\n</ul>\\n</li>\\n</ul>\\n</div>\\n<div class=\"toctree-wrapper compound\">\\n<ul>\\n<li class=\"toctree-l1\"><a class=\"reference internal\" href=\"community/updates/\">Community Updates</a></li>\\n<li class=\"toctree-l1\"><a class=\"reference internal\" href=\"community/updates/#release-history\">Release History</a></li>\\n</ul>\\n</div>\\n</section>\\n<section id=\"the-api-documentation-guide\">\\n<h2>The API Documentation / Guide<a class=\"headerlink\" href=\"#the-api-documentation-guide\" title=\"Permalink to this headline\">\\xc2\\xb6</a></h2>\\n<p>If you are looking for information on a specific function, class, or method,\\nthis part of the documentation is for you.</p>\\n<div class=\"toctree-wrapper compound\">\\n<ul>\\n<li class=\"toctree-l1\"><a class=\"reference internal\" href=\"api/\">Developer Interface</a><ul>\\n<li class=\"toctree-l2\"><a class=\"reference internal\" href=\"api/#main-interface\">Main Interface</a></li>\\n<li class=\"toctree-l2\"><a class=\"reference internal\" href=\"api/#exceptions\">Exceptions</a></li>\\n<li class=\"toctree-l2\"><a class=\"reference internal\" href=\"api/#request-sessions\">Request Sessions</a></li>\\n<li class=\"toctree-l2\"><a class=\"reference internal\" href=\"api/#lower-level-classes\">Lower-Level Classes</a></li>\\n<li class=\"toctree-l2\"><a class=\"reference internal\" href=\"api/#lower-lower-level-classes\">Lower-Lower-Level Classes</a></li>\\n<li class=\"toctree-l2\"><a class=\"reference internal\" href=\"api/#authentication\">Authentication</a></li>\\n<li class=\"toctree-l2\"><a class=\"reference internal\" href=\"api/#encodings\">Encodings</a></li>\\n<li class=\"toctree-l2\"><a class=\"reference internal\" href=\"api/#cookies\">Cookies</a></li>\\n<li class=\"toctree-l2\"><a class=\"reference internal\" href=\"api/#status-code-lookup\">Status Code Lookup</a></li>\\n<li class=\"toctree-l2\"><a class=\"reference internal\" href=\"api/#migrating-to-1-x\">Migrating to 1.x</a></li>\\n<li class=\"toctree-l2\"><a class=\"reference internal\" href=\"api/#migrating-to-2-x\">Migrating to 2.x</a></li>\\n</ul>\\n</li>\\n</ul>\\n</div>\\n</section>\\n<section id=\"the-contributor-guide\">\\n<h2>The Contributor Guide<a class=\"headerlink\" href=\"#the-contributor-guide\" title=\"Permalink to this headline\">\\xc2\\xb6</a></h2>\\n<p>If you want to contribute to the project, this part of the documentation is for\\nyou.</p>\\n<div class=\"toctree-wrapper compound\">\\n<ul>\\n<li class=\"toctree-l1\"><a class=\"reference internal\" href=\"dev/contributing/\">Contributor\\xe2\\x80\\x99s Guide</a><ul>\\n<li class=\"toctree-l2\"><a class=\"reference internal\" href=\"dev/contributing/#be-cordial\">Be Cordial</a></li>\\n<li class=\"toctree-l2\"><a class=\"reference internal\" href=\"dev/contributing/#get-early-feedback\">Get Early Feedback</a></li>\\n<li class=\"toctree-l2\"><a class=\"reference internal\" href=\"dev/contributing/#contribution-suitability\">Contribution Suitability</a></li>\\n<li class=\"toctree-l2\"><a class=\"reference internal\" href=\"dev/contributing/#code-contributions\">Code Contributions</a><ul>\\n<li class=\"toctree-l3\"><a class=\"reference internal\" href=\"dev/contributing/#steps-for-submitting-code\">Steps for Submitting Code</a></li>\\n<li class=\"toctree-l3\"><a class=\"reference internal\" href=\"dev/contributing/#code-review\">Code Review</a></li>\\n<li class=\"toctree-l3\"><a class=\"reference internal\" href=\"dev/contributing/#code-style\">Code Style</a></li>\\n<li class=\"toctree-l3\"><a class=\"reference internal\" href=\"dev/contributing/#new-contributors\">New Contributors</a></li>\\n</ul>\\n</li>\\n<li class=\"toctree-l2\"><a class=\"reference internal\" href=\"dev/contributing/#documentation-contributions\">Documentation Contributions</a></li>\\n<li class=\"toctree-l2\"><a class=\"reference internal\" href=\"dev/contributing/#bug-reports\">Bug Reports</a></li>\\n<li class=\"toctree-l2\"><a class=\"reference internal\" href=\"dev/contributing/#feature-requests\">Feature Requests</a></li>\\n</ul>\\n</li>\\n<li class=\"toctree-l1\"><a class=\"reference internal\" href=\"dev/authors/\">Authors</a><ul>\\n<li class=\"toctree-l2\"><a class=\"reference internal\" href=\"dev/authors/#keepers-of-the-crystals\">Keepers of the Crystals</a></li>\\n<li class=\"toctree-l2\"><a class=\"reference internal\" href=\"dev/authors/#previous-keepers-of-crystals\">Previous Keepers of Crystals</a></li>\\n<li class=\"toctree-l2\"><a class=\"reference internal\" href=\"dev/authors/#patches-and-suggestions\">Patches and Suggestions</a></li>\\n</ul>\\n</li>\\n</ul>\\n</div>\\n<p>There are no more guides. You are now guideless.\\nGood luck.</p>\\n</section>\\n</section>\\n\\n\\n          </div>\\n          \\n        </div>\\n      </div>\\n      <div class=\"sphinxsidebar\" role=\"navigation\" aria-label=\"main navigation\">\\n        <div class=\"sphinxsidebarwrapper\"><p class=\"logo\">\\n  <a href=\"#\">\\n    <img class=\"logo\" src=\"_static/requests-sidebar.png\" alt=\"Requests logo\" />\\n  </a>\\n</p>\\n\\n<p>\\n  <iframe src=\"https://ghbtns.com/github-btn.html?user=psf&repo=requests&type=watch&count=true&size=large\"\\n    allowtransparency=\"true\" frameborder=\"0\" scrolling=\"0\" width=\"200px\" height=\"35px\"></iframe>\\n</p>\\n\\n<p>\\n  Requests is an elegant and simple HTTP library for Python, built for\\n  human beings.\\n</p>\\n\\n<h3>Useful Links</h3>\\n<ul>\\n  <li><a href=\"https://requests.readthedocs.io/en/latest/user/quickstart/\">Quickstart</a></li>\\n  <li><a href=\"https://requests.readthedocs.io/en/latest/user/advanced/\">Advanced Usage</a></li>\\n  <li><a href=\"https://requests.readthedocs.io/en/latest/api/\">API Reference</a></li>\\n  <li><a href=\"https://requests.readthedocs.io/en/latest/community/updates/#release-history\">Release History</a></li>\\n  <li><a href=\"https://requests.readthedocs.io/en/latest/dev/contributing/\">Contributors Guide</a></li>\\n\\n  <p></p>\\n\\n  <li><a href=\"https://requests.readthedocs.io/en/latest/community/recommended/\">Recommended Packages and Extensions</a></li>\\n\\n  <p></p>\\n\\n  <li><a href=\"https://github.com/psf/requests\">Requests @ GitHub</a></li>\\n  <li><a href=\"https://pypi.org/project/requests/\">Requests @ PyPI</a></li>\\n  <li><a href=\"https://github.com/psf/requests/issues\">Issue Tracker</a></li>\\n</ul>\\n\\n<div id=\"native-ribbon\">\\n</div>\\n<div id=\"searchbox\" style=\"display: none\" role=\"search\">\\n  <h3 id=\"searchlabel\">Quick search</h3>\\n    <div class=\"searchformwrapper\">\\n    <form class=\"search\" action=\"search/\" method=\"get\">\\n      <input type=\"text\" name=\"q\" aria-labelledby=\"searchlabel\" autocomplete=\"off\" autocorrect=\"off\" autocapitalize=\"off\" spellcheck=\"false\"/>\\n      <input type=\"submit\" value=\"Go\" />\\n    </form>\\n    </div>\\n</div>\\n<script>$(\\'#searchbox\\').show(0);</script><!-- Alabaster (krTheme++) Hacks -->\\n\\n<!-- CSS Adjustments (I\\'m very picky.) -->\\n<style type=\"text/css\">\\n\\n  /* Rezzy requires precise alignment. */\\n  img.logo {margin-left: -20px!important;}\\n\\n  /* \"Quick Search\" should be capitalized. */\\n  div#searchbox h3 {text-transform: capitalize;}\\n\\n  /* Make the document a little wider, less code is cut-off. */\\n  div.document {width: 1008px;}\\n\\n  /* Much-improved spacing around code blocks. */\\n  div.highlight pre {padding: 11px 14px;}\\n\\n  /* Remain Responsive! */\\n  @media screen and (max-width: 1008px) {\\n    div.sphinxsidebar {display: none;}\\n    div.document {width: 100%!important;}\\n\\n    /* Have code blocks escape the document right-margin. */\\n    div.highlight pre {margin-right: -30px;}\\n  }\\n</style>\\n\\n<!-- Native CPC by BuySellAds -->\\n\\n<script type=\"text/javascript\" src=\"//m.servedby-buysellads.com/monetization.js\"></script>\\n\\n<div id=\"native-ribbon\">\\n</div>\\n\\n<script>\\n_bsa.init(\\'custom\\', \\'CK7D62JU\\', \\'placement:pythonrequestsorg\\',\\n    {\\n      target: \\'#native-ribbon\\',\\n      template: `\\n<div class=\"native-sponsor\">Sponsored by ##company## \\xe2\\x80\\x94 Learn More</div>\\n  <a href=\"##link##\" class=\"native-flex\">\\n    <style>\\n    #native-ribbon #_custom_ {\\n      background: linear-gradient(-30deg, ##backgroundColor##E5, ##backgroundColor##E5 45%, ##backgroundColor## 45%) #fff;\\n    }\\n\\n    .native-details,\\n    .native-sponsor,\\n    .native-bsa {\\n      color: ##textColor## !important;\\n    }\\n\\n    .native-details:hover {\\n      color: ##textColorHover## !important;\\n    }\\n\\n    .native-cta {\\n      color: ##ctaTextColor##;\\n      background-color: ##ctaBackgroundColor##;\\n    }\\n\\n    .native-cta:hover {\\n      color: ##ctaTextColorHover##;\\n      background-color: ##ctaBackgroundColorHover##;\\n    }\\n    </style>\\n    <div class=\"native-main\">\\n      <img class=\"native-img\" src=\"##logo##\">\\n      <div class=\"native-details\">\\n        <span class=\"native-company\">##title##</span>\\n        <span class=\"native-desc\">##description##</span>\\n      </div>\\n    </div>\\n    <span class=\"native-cta\">##callToAction##</span>\\n  </a>\\n</div>\\n`\\n    }\\n  );\\n</script>\\n        </div>\\n      </div>\\n      <div class=\"clearer\"></div>\\n    </div>\\n    <div class=\"footer\">\\n      &copy;MMXVIX. A <a href=\"https://kenreitz.org/projects\">Kenneth Reitz</a> Project.\\n      \\n    </div>\\n\\n    \\n    <a href=\"https://github.com/requests/requests\" class=\"github\">\\n        <img style=\"position: absolute; top: 0; right: 0; border: 0;\" src=\"https://s3.amazonaws.com/github/ribbons/forkme_right_darkblue_121621.png\" alt=\"Fork me on GitHub\"  class=\"github\"/>\\n    </a>\\n    \\n\\n    \\n  </body>\\n</html>'\n",
      "<class 'requests.models.Response'>\n"
     ]
    }
   ],
   "source": [
    "import requests as req # import the module\n",
    "\n",
    "response = req.get('https://requests.readthedocs.io/') # making a GET request to the url\n",
    "\n",
    "print(f\"Status Code: {response.status_code}\") # showing the http response code.\n",
    "print(\"Response:\") \n",
    "\n",
    "print(response.content) # showing the HTML content in https://requests.readthedocs.io web page\n",
    "\n",
    "print(type(response))#showing the response object type"
   ]
  },
  {
   "cell_type": "markdown",
   "metadata": {},
   "source": [
    "- The example above is a simple request to `https://http.dog/100.jpg` that as you can see from the [HTTP status code](https://en.wikipedia.org/wiki/List_of_HTTP_status_codes), it was a successful request !\n",
    "\n",
    "- You can also learn the status codes from  `https://httpstatusdogs.com/` =)"
   ]
  },
  {
   "cell_type": "code",
   "execution_count": 3,
   "metadata": {},
   "outputs": [
    {
     "name": "stdout",
     "output_type": "stream",
     "text": [
      "Status Code: 201\n",
      "Response:\n",
      "{'title': 'Test Post', 'body': 'This is a test post created with requests', 'userId': '1', 'id': 101}\n",
      "The title is :  Test Post\n"
     ]
    }
   ],
   "source": [
    "import requests\n",
    "\n",
    "url = 'https://jsonplaceholder.typicode.com/posts'\n",
    "\n",
    "payload = { # payload must be a dictionary\n",
    "    'title': 'Test Post',\n",
    "    'body': 'This is a test post created with requests',\n",
    "    'userId': 1\n",
    "}\n",
    "\n",
    "response = requests.post(url, data=payload) # making a POST request\n",
    "\n",
    "print(f\"Status Code: {response.status_code}\")\n",
    "print(\"Response:\")\n",
    "print(response.json()) # transform the object to json \n",
    "print('The title is : ' , response.json()['title']) # using the json object like a dictinary"
   ]
  },
  {
   "cell_type": "markdown",
   "metadata": {},
   "source": [
    "- In example above we used a free fake api to test our post request\n",
    "\n",
    "- As it's shown , the response object can be usable by calling `json()` method on it.\n",
    "\n",
    "- Working with JSON in python is like working with dictionaries(key --> value).  \n",
    "\n",
    "- The main difference between `POST` and `GET` HTTP request method is where the data is being sent.\n",
    "\n",
    "- In `GET` method the data is sent int the URL but in `POST` data is sent in payload as a `JSON`."
   ]
  },
  {
   "cell_type": "code",
   "execution_count": null,
   "metadata": {},
   "outputs": [],
   "source": []
  }
 ],
 "metadata": {
  "kernelspec": {
   "display_name": "Python 3 (ipykernel)",
   "language": "python",
   "name": "python3"
  },
  "language_info": {
   "codemirror_mode": {
    "name": "ipython",
    "version": 3
   },
   "file_extension": ".py",
   "mimetype": "text/x-python",
   "name": "python",
   "nbconvert_exporter": "python",
   "pygments_lexer": "ipython3",
   "version": "3.9.0"
  }
 },
 "nbformat": 4,
 "nbformat_minor": 4
}
